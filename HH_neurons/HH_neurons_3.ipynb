{
 "cells": [
  {
   "cell_type": "markdown",
   "metadata": {
    "collapsed": true
   },
   "source": [
    "<img src=\"HH_single_neuron.png\">"
   ]
  },
  {
   "cell_type": "code",
   "execution_count": 1,
   "metadata": {
    "collapsed": true
   },
   "outputs": [],
   "source": [
    "import tensorflow as tf\n",
    "import numpy as np\n",
    "import matplotlib.pyplot as plt\n",
    "\n",
    "%matplotlib inline\n",
    "writer = tf.summary.FileWriter('./')"
   ]
  },
  {
   "cell_type": "code",
   "execution_count": 2,
   "metadata": {
    "collapsed": true
   },
   "outputs": [],
   "source": [
    "num_iterations = 1000\n",
    "num_neurons = 2"
   ]
  },
  {
   "cell_type": "code",
   "execution_count": 3,
   "metadata": {},
   "outputs": [],
   "source": [
    "def fIs(v, vi):\n",
    "    #Todo\n",
    "    return"
   ]
  },
  {
   "cell_type": "code",
   "execution_count": 4,
   "metadata": {
    "collapsed": true
   },
   "outputs": [],
   "source": [
    "ve = tf.constant(-60.)\n",
    "c1 = tf.constant(0.1)\n",
    "c2 = tf.constant(0.1)\n",
    "\n",
    "def fIl1(v):\n",
    "#     return tf.multiply(c, tf.subtract(ve,v))\n",
    "    return c1*(ve-v)\n",
    "\n",
    "def fIl2(v):\n",
    "#     return tf.multiply(c, tf.subtract(ve,v))\n",
    "    return c2*(ve-v)"
   ]
  },
  {
   "cell_type": "code",
   "execution_count": 5,
   "metadata": {},
   "outputs": [],
   "source": [
    "h_cons = tf.constant(0.01)\n",
    "h_by_two_cons = tf.constant(0.005)\n",
    "one_by_six_cons = tf.constant(tf.divide(1, 6))\n",
    "two_cons = tf.constant(2.)\n",
    "\n",
    "def call_currents(v, n, h, t, step_input):    \n",
    "#     INa, Ik, dn, dh = fINaK(v, n, h)\n",
    "    \n",
    "    Il1 = fIl1(v)\n",
    "    Il2 = fIl2(v)\n",
    "    \n",
    "#     dv = INa + Ik + Il #+ step_input\n",
    "    dv = Il1\n",
    "    \n",
    "    return [dv, tf.Variable(np.array([-0.]*num_neurons), dtype=tf.float32), \n",
    "            tf.Variable(np.array([0.]*num_neurons), dtype=tf.float32)]\n",
    "\n",
    "def neuron_combined_steps(prev_state, step_input):\n",
    "    v, n, h, t = prev_state\n",
    "      \n",
    "    v_1, n_1, h_1 = call_currents(v, n, h, t, step_input)\n",
    "    \n",
    "    v_2_in = tf.add(tf.multiply(h_by_two_cons, v_1), v)\n",
    "    n_2_in = tf.add(tf.multiply(h_by_two_cons, n_1), n)\n",
    "    h_2_in = tf.add(tf.multiply(h_by_two_cons, h_1), h)\n",
    "    t_2_in = tf.add(t, h_by_two_cons)\n",
    "    v_2, n_2, h_2 = call_currents(v_2_in, n_2_in, h_2_in, t_2_in, step_input)\n",
    "\n",
    "    v_3_in = tf.add(tf.multiply(h_by_two_cons, v_2), v)\n",
    "    n_3_in = tf.add(tf.multiply(h_by_two_cons, n_2), n)\n",
    "    h_3_in = tf.add(tf.multiply(h_by_two_cons, h_2), h)\n",
    "    t_3_in = tf.add(t, h_by_two_cons)\n",
    "    v_3, n_3, h_3 = call_currents(v_3_in, n_3_in, h_3_in, t_3_in, step_input)\n",
    "\n",
    "    v_4_in = tf.add(tf.multiply(h, v_2), v)\n",
    "    n_4_in = tf.add(tf.multiply(h, n_2), n)\n",
    "    h_4_in = tf.add(tf.multiply(h, h_2), h)\n",
    "    t_4_in = tf.add(t, h_cons)\n",
    "    v_4, n_4, h_4 = call_currents(v_4_in, n_4_in, h_4_in, t_4_in, step_input)\n",
    "\n",
    "      \n",
    "    v_next = tf.add(tf.multiply(one_by_six_cons, tf.add_n([v_1, tf.multiply(two_cons, v_2),\n",
    "                                                           tf.multiply(two_cons, v_3), v_4])), v)\n",
    "    n_next = tf.add(tf.multiply(one_by_six_cons, tf.add_n([n_1, tf.multiply(two_cons, n_2),\n",
    "                                                           tf.multiply(two_cons, n_3), n_4])), n)\n",
    "    h_next = tf.add(tf.multiply(one_by_six_cons, tf.add_n([h_1, tf.multiply(two_cons, h_2),\n",
    "                                                           tf.multiply(two_cons, h_3), h_4])), h)\n",
    "    \n",
    "    return [v_next, n_next, h_next, t+1]"
   ]
  },
  {
   "cell_type": "code",
   "execution_count": 6,
   "metadata": {},
   "outputs": [],
   "source": [
    "# inputs to the neurons\n",
    "inp = 0.05\n",
    "inputs = tf.Variable(np.array([[inp] + [0.]*(num_neurons-1)] * num_iterations), dtype=tf.float32)\n",
    "\n",
    "# initial activations and the combined input from synaptic connections\n",
    "v_initial = tf.Variable(np.array([-40.]*num_neurons), dtype=tf.float32)\n",
    "n_initial = tf.Variable(np.array([-40.]*num_neurons), dtype=tf.float32)\n",
    "h_initial = tf.Variable(np.array([-40.]*num_neurons), dtype=tf.float32)\n",
    "t = tf.constant(0.)\n",
    "\n",
    "initial_state = [v_initial, n_initial, h_initial, t]\n",
    "\n",
    "# recurrent execution. will iterate to the size of the inputs\n",
    "out = tf.scan(neuron_combined_steps, inputs, initializer=initial_state)"
   ]
  },
  {
   "cell_type": "code",
   "execution_count": 7,
   "metadata": {
    "scrolled": true
   },
   "outputs": [
    {
     "name": "stdout",
     "output_type": "stream",
     "text": [
      "CPU times: user 583 ms, sys: 330 ms, total: 913 ms\n",
      "Wall time: 497 ms\n"
     ]
    }
   ],
   "source": [
    "%%time\n",
    "# running the tensorflow graph\n",
    "with tf.Session() as sess:\n",
    "    sess.run(tf.global_variables_initializer())\n",
    "    writer.add_graph(sess.graph)\n",
    "    iteration_vals = sess.run(out)"
   ]
  },
  {
   "cell_type": "code",
   "execution_count": 8,
   "metadata": {},
   "outputs": [
    {
     "data": {
      "image/png": "[encoded data removed]",
      "text/plain": [
       "<matplotlib.figure.Figure at 0x113a8d748>"
      ]
     },
     "metadata": {},
     "output_type": "display_data"
    }
   ],
   "source": [
    "plt.figure(figsize=(20,5))\n",
    "plt.title('Neuron Activations')\n",
    "for i in range(num_neurons):\n",
    "    plt.plot([y[i] for y in iteration_vals[0]], label='y'+str(i), alpha=(i+1.0)/(num_neurons),\n",
    "             linewidth=5*(num_neurons-i)/(num_neurons))\n",
    "plt.legend()\n",
    "plt.show()"
   ]
  },
  {
   "cell_type": "code",
   "execution_count": null,
   "metadata": {
    "collapsed": true
   },
   "outputs": [],
   "source": []
  }
 ],
 "metadata": {
  "kernelspec": {
   "display_name": "Python 3",
   "language": "python",
   "name": "python3"
  },
  "language_info": {
   "codemirror_mode": {
    "name": "ipython",
    "version": 3
   },
   "file_extension": ".py",
   "mimetype": "text/x-python",
   "name": "python",
   "nbconvert_exporter": "python",
   "pygments_lexer": "ipython3",
   "version": "3.4.5"
  }
 },
 "nbformat": 4,
 "nbformat_minor": 1
}
