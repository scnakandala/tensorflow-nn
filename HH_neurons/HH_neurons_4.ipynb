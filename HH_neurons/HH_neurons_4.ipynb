{
 "cells": [
  {
   "cell_type": "markdown",
   "metadata": {
    "collapsed": true
   },
   "source": [
    "<img src=\"HH_single_neuron_with_synapse.png\">"
   ]
  },
  {
   "cell_type": "code",
   "execution_count": 11,
   "metadata": {
    "collapsed": false
   },
   "outputs": [],
   "source": [
    "import tensorflow as tf\n",
    "import numpy as np\n",
    "import matplotlib.pyplot as plt\n",
    "from random import randint\n",
    "from IPython.display import clear_output, Image, display, HTML\n",
    "\n",
    "%matplotlib inline\n",
    "writer = tf.summary.FileWriter('./')"
   ]
  },
  {
   "cell_type": "code",
   "execution_count": 12,
   "metadata": {
    "collapsed": true
   },
   "outputs": [],
   "source": [
    "def strip_consts(graph_def, max_const_size=32):\n",
    "    \"\"\"Strip large constant values from graph_def.\"\"\"\n",
    "    strip_def = tf.GraphDef()\n",
    "    for n0 in graph_def.node:\n",
    "        n = strip_def.node.add() \n",
    "        n.MergeFrom(n0)\n",
    "        if n.op == 'Const':\n",
    "            tensor = n.attr['value'].tensor\n",
    "            size = len(tensor.tensor_content)\n",
    "            if size > max_const_size:\n",
    "                tensor.tensor_content = bytes(\"<stripped %d bytes>\"%size, 'utf-8')\n",
    "    return strip_def\n",
    "\n",
    "def show_graph(graph_def, max_const_size=32):\n",
    "    \"\"\"Visualize TensorFlow graph.\"\"\"\n",
    "    if hasattr(graph_def, 'as_graph_def'):\n",
    "        graph_def = graph_def.as_graph_def()\n",
    "    strip_def = strip_consts(graph_def, max_const_size=max_const_size)\n",
    "    code = \"\"\"\n",
    "        <script>\n",
    "          function load() {{\n",
    "            document.getElementById(\"{id}\").pbtxt = {data};\n",
    "          }}\n",
    "        </script>\n",
    "        <link rel=\"import\" href=\"https://tensorboard.appspot.com/tf-graph-basic.build.html\" onload=load()>\n",
    "        <div style=\"height:600px\">\n",
    "          <tf-graph-basic id=\"{id}\"></tf-graph-basic>\n",
    "        </div>\n",
    "    \"\"\".format(data=repr(str(strip_def)), id='graph'+str(np.random.rand()))\n",
    "\n",
    "    iframe = \"\"\"\n",
    "        <iframe seamless style=\"width:1200px;height:620px;border:0\" srcdoc=\"{}\"></iframe>\n",
    "    \"\"\".format(code.replace('\"', '&quot;'))\n",
    "    display(HTML(iframe))"
   ]
  },
  {
   "cell_type": "code",
   "execution_count": 21,
   "metadata": {
    "collapsed": true
   },
   "outputs": [],
   "source": [
    "num_iterations = 1000\n",
    "num_neurons = 50000\n",
    "\n",
    "tf.reset_default_graph()"
   ]
  },
  {
   "cell_type": "code",
   "execution_count": 22,
   "metadata": {
    "collapsed": true
   },
   "outputs": [],
   "source": [
    "ve = tf.constant(-60., name='ve')\n",
    "\n",
    "# Different parameters for different neurons\n",
    "c = tf.Variable(0.01 ,dtype=tf.float32)\n",
    "\n",
    "def fIl1(v):\n",
    "    with tf.name_scope('fIl1'):\n",
    "        return c*(ve-v)\n",
    "\n",
    "def fIl2(v):\n",
    "    with tf.name_scope('fIl2'):\n",
    "        return c*(ve-v)\n",
    "\n",
    "def fIl3(v):\n",
    "    with tf.name_scope('fIl3'):\n",
    "        return c*(ve-v)\n",
    "\n",
    "def fIl4(v):\n",
    "    with tf.name_scope('fIl4'):\n",
    "        return c*(ve-v)\n",
    "\n",
    "# Abstracting out the functions\n",
    "current_functions = [fIl1, fIl2, fIl3, fIl4]"
   ]
  },
  {
   "cell_type": "code",
   "execution_count": 23,
   "metadata": {
    "collapsed": false
   },
   "outputs": [],
   "source": [
    "connections = []\n",
    "weights = []\n",
    "for i in range(num_neurons):\n",
    "    temp_conns = []\n",
    "    temp_weights = []\n",
    "    for j in range(num_neurons):\n",
    "        if i != j:\n",
    "            number = randint(0, 99)\n",
    "            if number < 5:\n",
    "                temp_conns.append(j)\n",
    "                temp_weights.append(5/100)\n",
    "    connections.append(tf.Variable(np.asarray(temp_conns), dtype=tf.int32))\n",
    "    weights.append(tf.Variable(np.asarray(temp_weights), dtype=tf.float32))"
   ]
  },
  {
   "cell_type": "code",
   "execution_count": 24,
   "metadata": {
    "collapsed": false
   },
   "outputs": [],
   "source": [
    "def fIs(v, fired):\n",
    "    mul_product = []\n",
    "\n",
    "    for i in range(num_neurons):\n",
    "        gather = tf.gather(tf.multiply(v, fired), connections[i])\n",
    "        mul_product.append(tf.reduce_sum(gather))    \n",
    "        \n",
    "    return tf.stack(mul_product, 0)"
   ]
  },
  {
   "cell_type": "code",
   "execution_count": 25,
   "metadata": {
    "collapsed": true
   },
   "outputs": [],
   "source": [
    "def call_currents(v, n, h, t, step_input):    \n",
    "    dv = 0.\n",
    "    \n",
    "    with tf.name_scope('call_currents'):\n",
    "        for fn in current_functions:\n",
    "            dv += fn(v)\n",
    "        \n",
    "        with tf.name_scope('stack_call_currents_tensors'):\n",
    "            return [dv, tf.Variable(np.array([-0.]*num_neurons), dtype=tf.float32), \n",
    "                tf.Variable(np.array([0.]*num_neurons), dtype=tf.float32)]"
   ]
  },
  {
   "cell_type": "code",
   "execution_count": 26,
   "metadata": {
    "collapsed": true
   },
   "outputs": [],
   "source": [
    "h_cons = tf.constant(0.01, name='h')\n",
    "h_by_two_cons = tf.constant(0.005, name='h_by_two_cons')\n",
    "one_by_six_cons = tf.constant(tf.divide(1, 6), name='one_by_six_cons')\n",
    "two_cons = tf.constant(2., name='two_cons')\n",
    "firing_threshold = tf.constant(1.0, name='firing_constant')\n",
    "firing_reset = tf.constant(-3., name='firing_reset')\n",
    "\n",
    "def neuron_combined_steps(prev_state, step_input):\n",
    "    with tf.name_scope('unstack_prev_interation_vals'):\n",
    "        v, n, h, fired, t = prev_state\n",
    "    \n",
    "    with tf.name_scope('RK1'):\n",
    "        v_1, n_1, h_1 = call_currents(v, n, h, t, step_input)\n",
    "    \n",
    "        with tf.name_scope('synapse_calc_1'):\n",
    "            v_1 = v_1 + fIs(v, fired)\n",
    "\n",
    "    with tf.name_scope('RK2'):\n",
    "        v_2_in = tf.add(tf.multiply(h_by_two_cons, v_1), v)\n",
    "        n_2_in = tf.add(tf.multiply(h_by_two_cons, n_1), n)\n",
    "        h_2_in = tf.add(tf.multiply(h_by_two_cons, h_1), h)\n",
    "        t_2_in = tf.add(t, h_by_two_cons)\n",
    "        v_2, n_2, h_2 = call_currents(v_2_in, n_2_in, h_2_in, t_2_in, step_input)\n",
    "\n",
    "    with tf.name_scope('RK3'):\n",
    "        v_3_in = tf.add(tf.multiply(h_by_two_cons, v_2), v)\n",
    "        n_3_in = tf.add(tf.multiply(h_by_two_cons, n_2), n)\n",
    "        h_3_in = tf.add(tf.multiply(h_by_two_cons, h_2), h)\n",
    "        t_3_in = tf.add(t, h_by_two_cons)\n",
    "        v_3, n_3, h_3 = call_currents(v_3_in, n_3_in, h_3_in, t_3_in, step_input)\n",
    "\n",
    "    with tf.name_scope('RK4'):\n",
    "        v_4_in = tf.add(tf.multiply(h, v_2), v)\n",
    "        n_4_in = tf.add(tf.multiply(h, n_2), n)\n",
    "        h_4_in = tf.add(tf.multiply(h, h_2), h)\n",
    "        t_4_in = tf.add(t, h_cons)\n",
    "        v_4, n_4, h_4 = call_currents(v_4_in, n_4_in, h_4_in, t_4_in, step_input)\n",
    "    \n",
    "    with tf.name_scope('calc_next_iteration_tensors'):\n",
    "        v_next = tf.add(tf.multiply(one_by_six_cons, tf.add_n([v_1, tf.multiply(two_cons, v_2),\n",
    "                                                               tf.multiply(two_cons, v_3), v_4])), v)\n",
    "        n_next = tf.add(tf.multiply(one_by_six_cons, tf.add_n([n_1, tf.multiply(two_cons, n_2),\n",
    "                                                               tf.multiply(two_cons, n_3), n_4])), n)\n",
    "        h_next = tf.add(tf.multiply(one_by_six_cons, tf.add_n([h_1, tf.multiply(two_cons, h_2),\n",
    "                                                               tf.multiply(two_cons, h_3), h_4])), h)\n",
    "        \n",
    "\n",
    "        fired = tf.where(tf.greater(v_next, firing_threshold), tf.ones(num_neurons), tf.zeros(num_neurons))\n",
    "        \n",
    "        # peak thresholding for neuron outputs\n",
    "        v_next_thres = tf.where(tf.greater(v_next, firing_threshold), firing_reset*tf.ones_like(v_next), v_next)\n",
    "        \n",
    "        with tf.name_scope('stack_next_iteration_tensors'):\n",
    "            return [v_next_thres, n_next, h_next, fired, t+1]"
   ]
  },
  {
   "cell_type": "code",
   "execution_count": 27,
   "metadata": {
    "collapsed": false,
    "scrolled": false
   },
   "outputs": [],
   "source": [
    "# inputs to the neurons\n",
    "inp = 0.05\n",
    "inputs = tf.Variable(np.array([[inp] + [0.]*(num_neurons-1)] * num_iterations), dtype=tf.float32, name='inputs')\n",
    "\n",
    "# initial activations and the combined input from synaptic connections\n",
    "v_initial = tf.Variable(np.array([-40.]*num_neurons), dtype=tf.float32, name='v_initial')\n",
    "n_initial = tf.Variable(np.array([-40.]*num_neurons), dtype=tf.float32, name='n_initial')\n",
    "h_initial = tf.Variable(np.array([-40.]*num_neurons), dtype=tf.float32, name='h_initial')\n",
    "fired_initial = tf.Variable(tf.zeros(num_neurons))\n",
    "t = tf.constant(0., name='t')\n",
    "\n",
    "with tf.name_scope('stack_initial_input_tensors'):\n",
    "    initial_state = [v_initial, n_initial, h_initial, fired_initial, t]\n",
    "\n",
    "# recurrent execution. will iterate to the size of the inputs\n",
    "out = tf.scan(neuron_combined_steps, inputs, initializer=initial_state)"
   ]
  },
  {
   "cell_type": "code",
   "execution_count": 28,
   "metadata": {
    "collapsed": false
   },
   "outputs": [
    {
     "name": "stdout",
     "output_type": "stream",
     "text": [
      "CPU times: user 35min 59s, sys: 15min 57s, total: 51min 56s\n",
      "Wall time: 32min 5s\n"
     ]
    }
   ],
   "source": [
    "%%time\n",
    "# running the tensorflow graph\n",
    "with tf.Session() as sess:\n",
    "    sess.run(tf.global_variables_initializer())\n",
    "    writer.add_graph(sess.graph)\n",
    "    iteration_vals = sess.run(out)"
   ]
  },
  {
   "cell_type": "code",
   "execution_count": null,
   "metadata": {
    "collapsed": false
   },
   "outputs": [],
   "source": [
    "plt.figure(figsize=(20,5))\n",
    "plt.title('Neuron Activations')\n",
    "for i in range(num_neurons):\n",
    "    plt.plot([y[i] for y in iteration_vals[0]], label='y'+str(i), alpha=(i+1.0)/(num_neurons),\n",
    "             linewidth=5*(num_neurons-i)/(num_neurons))\n",
    "plt.legend()\n",
    "plt.show()"
   ]
  },
  {
   "cell_type": "code",
   "execution_count": null,
   "metadata": {
    "collapsed": false
   },
   "outputs": [],
   "source": [
    "show_graph(tf.get_default_graph().as_graph_def())"
   ]
  },
  {
   "cell_type": "code",
   "execution_count": null,
   "metadata": {
    "collapsed": true
   },
   "outputs": [],
   "source": []
  }
 ],
 "metadata": {
  "kernelspec": {
   "display_name": "Python 3",
   "language": "python",
   "name": "python3"
  },
  "language_info": {
   "codemirror_mode": {
    "name": "ipython",
    "version": 3
   },
   "file_extension": ".py",
   "mimetype": "text/x-python",
   "name": "python",
   "nbconvert_exporter": "python",
   "pygments_lexer": "ipython3",
   "version": "3.5.2"
  }
 },
 "nbformat": 4,
 "nbformat_minor": 1
}
