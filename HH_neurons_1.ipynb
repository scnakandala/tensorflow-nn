{
 "cells": [
  {
   "cell_type": "markdown",
   "metadata": {
    "collapsed": true
   },
   "source": [
    "<img src=\"HH_single_neuron.png\">"
   ]
  },
  {
   "cell_type": "code",
   "execution_count": 105,
   "metadata": {
    "collapsed": true
   },
   "outputs": [],
   "source": [
    "import tensorflow as tf\n",
    "import numpy as np\n",
    "import matplotlib.pyplot as plt\n",
    "\n",
    "%matplotlib inline\n",
    "writer = tf.summary.FileWriter('./')"
   ]
  },
  {
   "cell_type": "code",
   "execution_count": 106,
   "metadata": {
    "collapsed": true
   },
   "outputs": [],
   "source": [
    "num_iterations = 1000\n",
    "num_neurons = 2"
   ]
  },
  {
   "cell_type": "code",
   "execution_count": 107,
   "metadata": {
    "collapsed": false
   },
   "outputs": [],
   "source": [
    "def fIs(v, vi):\n",
    "    #Todo\n",
    "    return"
   ]
  },
  {
   "cell_type": "code",
   "execution_count": 108,
   "metadata": {
    "collapsed": true
   },
   "outputs": [],
   "source": [
    "G_K = tf.constant(18.)\n",
    "E_K = tf.constant(-80.)\n",
    "G_Na = tf.constant(45.)\n",
    "E_Na = tf.constant(55.)\n",
    "Phi = tf.constant(4.)\n",
    "\n",
    "def fINaK(v, h, n):    \n",
    "    Alpha1 = -0.1*(v+33)/(tf.exp(-0.1*(v+33)) - 1)\n",
    "    Beta1 = 4*(tf.exp(-1*(v +58)/12))\n",
    "    m_inf = Alpha1/(Alpha1 + Beta1)\n",
    "    \n",
    "    Alpha2 = 0.07*tf.exp(-1*(v+50)/10)\n",
    "    Beta2 = 1/(tf.exp(-0.1*(v+20)) + 1)\n",
    "    tau_h = 1/(Alpha2 + Beta2)\n",
    "    h_inf = Alpha2/(Alpha2 + Beta2)\n",
    "    \n",
    "    Alpha3 = -0.01*(v+34)/(tf.exp(-0.1*(v+34)) - 1);\n",
    "    Beta3 = 0.125*tf.exp(-1*(v+44)/25);\n",
    "    tau_n = 1/(Alpha3 + Beta3);\n",
    "    n_inf = Alpha3/(Alpha3 + Beta3);\n",
    "\n",
    "    fn = Phi*(n_inf - n)/tau_n\n",
    "    fh = Phi*(h_inf - h)/tau_h\n",
    "    \n",
    "    INa = G_Na*m_inf*m_inf*m_inf*h*(v - E_Na);\n",
    "    Ik = G_K*n*n*n*n*(v - E_K);\n",
    "    \n",
    "    return INa, Ik, fn, fh"
   ]
  },
  {
   "cell_type": "code",
   "execution_count": 109,
   "metadata": {
    "collapsed": true
   },
   "outputs": [],
   "source": [
    "ve = tf.constant(-60.)\n",
    "c = tf.constant(0.1)\n",
    "\n",
    "def fIl(v):\n",
    "    return tf.multiply(c, tf.subtract(ve,v))"
   ]
  },
  {
   "cell_type": "code",
   "execution_count": 115,
   "metadata": {
    "collapsed": false
   },
   "outputs": [],
   "source": [
    "h_cons = tf.constant(0.01)\n",
    "h_by_two_cons = tf.constant(0.005)\n",
    "one_by_six_cons = tf.constant(tf.divide(1, 6))\n",
    "two_cons = tf.constant(2.)\n",
    "\n",
    "def call_currents(v, n, h, t, step_input):    \n",
    "    INa, Ik, dn, dh = fINaK(v, n, h)\n",
    "    \n",
    "    Il = fIl(v)\n",
    "    \n",
    "    dv = INa + Ik + Il #+ step_input\n",
    "    \n",
    "    return [dv, dn, dh]\n",
    "\n",
    "def neuron_combined_steps(prev_state, step_input):\n",
    "    v, n, h, t = prev_state\n",
    "      \n",
    "    v_1, n_1, h_1 = call_currents(v, n, h, t, step_input)\n",
    "    \n",
    "    v_2_in = tf.add(tf.multiply(h_by_two_cons, v_1), v)\n",
    "    n_2_in = tf.add(tf.multiply(h_by_two_cons, n_1), n)\n",
    "    h_2_in = tf.add(tf.multiply(h_by_two_cons, h_1), h)\n",
    "    t_2_in = tf.add(t, h_by_two_cons)\n",
    "    v_2, n_2, h_2 = call_currents(v_2_in, n_2_in, h_2_in, t_2_in, step_input)\n",
    "\n",
    "    v_3_in = tf.add(tf.multiply(h_by_two_cons, v_2), v)\n",
    "    n_3_in = tf.add(tf.multiply(h_by_two_cons, n_2), n)\n",
    "    h_3_in = tf.add(tf.multiply(h_by_two_cons, h_2), h)\n",
    "    t_3_in = tf.add(t, h_by_two_cons)\n",
    "    v_3, n_3, h_3 = call_currents(v_3_in, n_3_in, h_3_in, t_3_in, step_input)\n",
    "\n",
    "    v_4_in = tf.add(tf.multiply(h, v_2), v)\n",
    "    n_4_in = tf.add(tf.multiply(h, n_2), n)\n",
    "    h_4_in = tf.add(tf.multiply(h, h_2), h)\n",
    "    t_4_in = tf.add(t, h_cons)\n",
    "    v_4, n_4, h_4 = call_currents(v_4_in, n_4_in, h_4_in, t_4_in, step_input)\n",
    "\n",
    "      \n",
    "    v_next = tf.add(tf.multiply(one_by_six_cons, tf.add_n([v_1, tf.multiply(two_cons, v_2),\n",
    "                                                           tf.multiply(two_cons, v_3), v_4])), v)\n",
    "    n_next = tf.add(tf.multiply(one_by_six_cons, tf.add_n([n_1, tf.multiply(two_cons, n_2),\n",
    "                                                           tf.multiply(two_cons, n_3), n_4])), n)\n",
    "    h_next = tf.add(tf.multiply(one_by_six_cons, tf.add_n([h_1, tf.multiply(two_cons, h_2),\n",
    "                                                           tf.multiply(two_cons, h_3), h_4])), h)\n",
    "    \n",
    "    return [v_next, n_next, h_next, t+1]"
   ]
  },
  {
   "cell_type": "code",
   "execution_count": 116,
   "metadata": {
    "collapsed": false
   },
   "outputs": [],
   "source": [
    "# inputs to the neurons\n",
    "inp = 0.05\n",
    "inputs = tf.Variable(np.array([[inp] + [0.]*(num_neurons-1)] * num_iterations), dtype=tf.float32)\n",
    "\n",
    "# initial activations and the combined input from synaptic connections\n",
    "v_initial = tf.Variable(np.array([-40.]*num_neurons), dtype=tf.float32)\n",
    "n_initial = tf.Variable(np.array([-40.]*num_neurons), dtype=tf.float32)\n",
    "h_initial = tf.Variable(np.array([-40.]*num_neurons), dtype=tf.float32)\n",
    "t = tf.constant(0.)\n",
    "\n",
    "initial_state = [v_initial, n_initial, h_initial, t]\n",
    "\n",
    "# recurrent execution. will iterate to the size of the inputs\n",
    "out = tf.scan(neuron_combined_steps, inputs, initializer=initial_state)"
   ]
  },
  {
   "cell_type": "code",
   "execution_count": 117,
   "metadata": {
    "collapsed": false,
    "scrolled": true
   },
   "outputs": [
    {
     "name": "stdout",
     "output_type": "stream",
     "text": [
      "CPU times: user 8.7 s, sys: 1.55 s, total: 10.2 s\n",
      "Wall time: 8.8 s\n"
     ]
    }
   ],
   "source": [
    "%%time\n",
    "# running the tensorflow graph\n",
    "with tf.Session() as sess:\n",
    "    sess.run(tf.global_variables_initializer())\n",
    "    writer.add_graph(sess.graph)\n",
    "    iteration_vals = sess.run(out)"
   ]
  },
  {
   "cell_type": "code",
   "execution_count": 118,
   "metadata": {
    "collapsed": false
   },
   "outputs": [
    {
     "data": {
      "image/png": "[encoded data removed]",
      "text/plain": [
       "<matplotlib.figure.Figure at 0x11dfeb048>"
      ]
     },
     "metadata": {},
     "output_type": "display_data"
    }
   ],
   "source": [
    "plt.figure(figsize=(20,5))\n",
    "plt.title('Neuron Activations')\n",
    "for i in range(num_neurons):\n",
    "    plt.plot([y[i] for y in iteration_vals[0]], label='y'+str(i), alpha=(i+1.0)/(num_neurons),\n",
    "             linewidth=5*(num_neurons-i)/(num_neurons))\n",
    "plt.legend()\n",
    "plt.show()"
   ]
  },
  {
   "cell_type": "code",
   "execution_count": 119,
   "metadata": {
    "collapsed": false
   },
   "outputs": [
    {
     "data": {
      "text/plain": [
       "array([[ -8.53944579e+31,  -8.53944579e+31],\n",
       "       [             nan,              nan],\n",
       "       [             nan,              nan],\n",
       "       [             nan,              nan],\n",
       "       [             nan,              nan],\n",
       "       [             nan,              nan],\n",
       "       [             nan,              nan],\n",
       "       [             nan,              nan],\n",
       "       [             nan,              nan],\n",
       "       [             nan,              nan],\n",
       "       [             nan,              nan],\n",
       "       [             nan,              nan],\n",
       "       [             nan,              nan],\n",
       "       [             nan,              nan],\n",
       "       [             nan,              nan],\n",
       "       [             nan,              nan],\n",
       "       [             nan,              nan],\n",
       "       [             nan,              nan],\n",
       "       [             nan,              nan],\n",
       "       [             nan,              nan],\n",
       "       [             nan,              nan],\n",
       "       [             nan,              nan],\n",
       "       [             nan,              nan],\n",
       "       [             nan,              nan],\n",
       "       [             nan,              nan]], dtype=float32)"
      ]
     },
     "execution_count": 119,
     "metadata": {},
     "output_type": "execute_result"
    }
   ],
   "source": [
    "iteration_vals[0][0:25]"
   ]
  },
  {
   "cell_type": "code",
   "execution_count": null,
   "metadata": {
    "collapsed": true
   },
   "outputs": [],
   "source": []
  }
 ],
 "metadata": {
  "kernelspec": {
   "display_name": "Python 3",
   "language": "python",
   "name": "python3"
  },
  "language_info": {
   "codemirror_mode": {
    "name": "ipython",
    "version": 3
   },
   "file_extension": ".py",
   "mimetype": "text/x-python",
   "name": "python",
   "nbconvert_exporter": "python",
   "pygments_lexer": "ipython3",
   "version": "3.5.2"
  }
 },
 "nbformat": 4,
 "nbformat_minor": 0
}
