{
 "cells": [
  {
   "cell_type": "code",
   "execution_count": 41,
   "metadata": {
    "collapsed": true
   },
   "outputs": [],
   "source": [
    "import math\n",
    "import matplotlib.pyplot as plt\n",
    "%matplotlib inline"
   ]
  },
  {
   "cell_type": "code",
   "execution_count": 31,
   "metadata": {
    "collapsed": true
   },
   "outputs": [],
   "source": [
    "num_iterations = 1000\n",
    "num_neurons = 2"
   ]
  },
  {
   "cell_type": "code",
   "execution_count": 79,
   "metadata": {
    "collapsed": true
   },
   "outputs": [],
   "source": [
    "ve = -60.\n",
    "def fIl(v):\n",
    "    return 0.1*(ve-v)\n",
    "\n",
    "Phi = 4.\n",
    "G_K = 18.\n",
    "E_K = -80.\n",
    "G_Na = 45.\n",
    "E_Na = 55.\n",
    "\n",
    "def fINaK(v, h, n):    \n",
    "    Alpha1 = -0.1*(v+33)/(math.exp(-0.1*(v+33)) - 1)\n",
    "    Beta1 = 4*(math.exp(-1*(v +58)/12))\n",
    "    m_inf = Alpha1/(Alpha1 + Beta1)\n",
    "    \n",
    "    Alpha2 = 0.07*math.exp(-1*(v+50)/10)\n",
    "    Beta2 = 1/(math.exp(-0.1*(v+20)) + 1)\n",
    "    tau_h = 1/(Alpha2 + Beta2)\n",
    "    h_inf = Alpha2/(Alpha2 + Beta2)\n",
    "    \n",
    "    Alpha3 = -0.01*(v+34)/(math.exp(-0.1*(v+34)) - 1);\n",
    "    Beta3 = 0.125*math.exp(-1*(v+44)/25);\n",
    "    tau_n = 1/(Alpha3 + Beta3);\n",
    "    n_inf = Alpha3/(Alpha3 + Beta3);\n",
    "\n",
    "    fn = Phi*(n_inf - n)/tau_n\n",
    "    fh = Phi*(h_inf - h)/tau_h\n",
    "    \n",
    "    INa = G_Na*m_inf*m_inf*m_inf*h*(v - E_Na);\n",
    "    Ik = G_K*n*n*n*n*(v - E_K);\n",
    "    \n",
    "    return INa, Ik, fn, fh"
   ]
  },
  {
   "cell_type": "code",
   "execution_count": 80,
   "metadata": {
    "collapsed": true
   },
   "outputs": [],
   "source": [
    "def call_currents(v, h, n):    \n",
    "    Il = fIl(v)\n",
    "    INa, Ik, fn, fh = fINaK(v, h, n)\n",
    "    dv = INa + Ik + Il\n",
    "    return dv, fn, fh"
   ]
  },
  {
   "cell_type": "code",
   "execution_count": 81,
   "metadata": {
    "collapsed": false
   },
   "outputs": [],
   "source": [
    "h_cons = 0.001\n",
    "\n",
    "def neuron_combined_steps(x):\n",
    "    v, h, n = x\n",
    "    v_1, h_1, n_1 = call_currents(v, h, n)\n",
    "    \n",
    "    v_2, h_2, n_2 = call_currents(h_cons/2*v_1 + v, h_cons/2*h_1 + h, h_cons/2*n_1 + n)\n",
    "    \n",
    "    v_3, h_3, n_3 = call_currents(h_cons/2*v_2 + v, h_cons/2*h_2 + h, h_cons/2*n_2 + n)\n",
    "    \n",
    "    v_4, h_4, n_4 = call_currents(h_cons*v_3 + v, h_cons*h_3 + h, h_cons*n_3 + n)\n",
    "        \n",
    "    v_next = 1/6*(v_1+2*v_2+2*v_3+v_4) + v\n",
    "    h_next = 1/6*(h_1+2*h_2+2*h_3+h_4) + h\n",
    "    n_next = 1/6*(n_1+2*n_2+2*n_3+n_4) + n\n",
    "    \n",
    "    return [v_next, h_next, n_next]"
   ]
  },
  {
   "cell_type": "code",
   "execution_count": 82,
   "metadata": {
    "collapsed": false
   },
   "outputs": [
    {
     "ename": "ZeroDivisionError",
     "evalue": "float division by zero",
     "output_type": "error",
     "traceback": [
      "\u001b[0;31m---------------------------------------------------------------------------\u001b[0m",
      "\u001b[0;31mZeroDivisionError\u001b[0m                         Traceback (most recent call last)",
      "\u001b[0;32m<ipython-input-82-7b7b3e32c568>\u001b[0m in \u001b[0;36m<module>\u001b[0;34m()\u001b[0m\n\u001b[1;32m      3\u001b[0m \u001b[0mall_values\u001b[0m\u001b[0;34m.\u001b[0m\u001b[0mappend\u001b[0m\u001b[0;34m(\u001b[0m\u001b[0mcurrent_values\u001b[0m\u001b[0;34m)\u001b[0m\u001b[0;34m\u001b[0m\u001b[0m\n\u001b[1;32m      4\u001b[0m \u001b[0;32mfor\u001b[0m \u001b[0mi\u001b[0m \u001b[0;32min\u001b[0m \u001b[0mrange\u001b[0m\u001b[0;34m(\u001b[0m\u001b[0mnum_iterations\u001b[0m\u001b[0;34m)\u001b[0m\u001b[0;34m:\u001b[0m\u001b[0;34m\u001b[0m\u001b[0m\n\u001b[0;32m----> 5\u001b[0;31m     \u001b[0mnext_values\u001b[0m \u001b[0;34m=\u001b[0m \u001b[0mneuron_combined_steps\u001b[0m\u001b[0;34m(\u001b[0m\u001b[0mcurrent_values\u001b[0m\u001b[0;34m)\u001b[0m\u001b[0;34m\u001b[0m\u001b[0m\n\u001b[0m\u001b[1;32m      6\u001b[0m     \u001b[0mall_values\u001b[0m\u001b[0;34m.\u001b[0m\u001b[0mappend\u001b[0m\u001b[0;34m(\u001b[0m\u001b[0mnext_values\u001b[0m\u001b[0;34m)\u001b[0m\u001b[0;34m\u001b[0m\u001b[0m\n\u001b[1;32m      7\u001b[0m     \u001b[0mcurrent_values\u001b[0m \u001b[0;34m=\u001b[0m \u001b[0mnext_values\u001b[0m\u001b[0;34m\u001b[0m\u001b[0m\n",
      "\u001b[0;32m<ipython-input-81-6541f206cc0e>\u001b[0m in \u001b[0;36mneuron_combined_steps\u001b[0;34m(x)\u001b[0m\n\u001b[1;32m      3\u001b[0m \u001b[0;32mdef\u001b[0m \u001b[0mneuron_combined_steps\u001b[0m\u001b[0;34m(\u001b[0m\u001b[0mx\u001b[0m\u001b[0;34m)\u001b[0m\u001b[0;34m:\u001b[0m\u001b[0;34m\u001b[0m\u001b[0m\n\u001b[1;32m      4\u001b[0m     \u001b[0mv\u001b[0m\u001b[0;34m,\u001b[0m \u001b[0mh\u001b[0m\u001b[0;34m,\u001b[0m \u001b[0mn\u001b[0m \u001b[0;34m=\u001b[0m \u001b[0mx\u001b[0m\u001b[0;34m\u001b[0m\u001b[0m\n\u001b[0;32m----> 5\u001b[0;31m     \u001b[0mv_1\u001b[0m\u001b[0;34m,\u001b[0m \u001b[0mh_1\u001b[0m\u001b[0;34m,\u001b[0m \u001b[0mn_1\u001b[0m \u001b[0;34m=\u001b[0m \u001b[0mcall_currents\u001b[0m\u001b[0;34m(\u001b[0m\u001b[0mv\u001b[0m\u001b[0;34m,\u001b[0m \u001b[0mh\u001b[0m\u001b[0;34m,\u001b[0m \u001b[0mn\u001b[0m\u001b[0;34m)\u001b[0m\u001b[0;34m\u001b[0m\u001b[0m\n\u001b[0m\u001b[1;32m      6\u001b[0m \u001b[0;34m\u001b[0m\u001b[0m\n\u001b[1;32m      7\u001b[0m     \u001b[0mv_2\u001b[0m\u001b[0;34m,\u001b[0m \u001b[0mh_2\u001b[0m\u001b[0;34m,\u001b[0m \u001b[0mn_2\u001b[0m \u001b[0;34m=\u001b[0m \u001b[0mcall_currents\u001b[0m\u001b[0;34m(\u001b[0m\u001b[0mh_cons\u001b[0m\u001b[0;34m/\u001b[0m\u001b[0;36m2\u001b[0m\u001b[0;34m*\u001b[0m\u001b[0mv_1\u001b[0m \u001b[0;34m+\u001b[0m \u001b[0mv\u001b[0m\u001b[0;34m,\u001b[0m \u001b[0mh_cons\u001b[0m\u001b[0;34m/\u001b[0m\u001b[0;36m2\u001b[0m\u001b[0;34m*\u001b[0m\u001b[0mh_1\u001b[0m \u001b[0;34m+\u001b[0m \u001b[0mh\u001b[0m\u001b[0;34m,\u001b[0m \u001b[0mh_cons\u001b[0m\u001b[0;34m/\u001b[0m\u001b[0;36m2\u001b[0m\u001b[0;34m*\u001b[0m\u001b[0mn_1\u001b[0m \u001b[0;34m+\u001b[0m \u001b[0mn\u001b[0m\u001b[0;34m)\u001b[0m\u001b[0;34m\u001b[0m\u001b[0m\n",
      "\u001b[0;32m<ipython-input-80-b4d7c0c39425>\u001b[0m in \u001b[0;36mcall_currents\u001b[0;34m(v, h, n)\u001b[0m\n\u001b[1;32m      1\u001b[0m \u001b[0;32mdef\u001b[0m \u001b[0mcall_currents\u001b[0m\u001b[0;34m(\u001b[0m\u001b[0mv\u001b[0m\u001b[0;34m,\u001b[0m \u001b[0mh\u001b[0m\u001b[0;34m,\u001b[0m \u001b[0mn\u001b[0m\u001b[0;34m)\u001b[0m\u001b[0;34m:\u001b[0m\u001b[0;34m\u001b[0m\u001b[0m\n\u001b[1;32m      2\u001b[0m     \u001b[0mIl\u001b[0m \u001b[0;34m=\u001b[0m \u001b[0mfIl\u001b[0m\u001b[0;34m(\u001b[0m\u001b[0mv\u001b[0m\u001b[0;34m)\u001b[0m\u001b[0;34m\u001b[0m\u001b[0m\n\u001b[0;32m----> 3\u001b[0;31m     \u001b[0mINa\u001b[0m\u001b[0;34m,\u001b[0m \u001b[0mIk\u001b[0m\u001b[0;34m,\u001b[0m \u001b[0mfn\u001b[0m\u001b[0;34m,\u001b[0m \u001b[0mfh\u001b[0m \u001b[0;34m=\u001b[0m \u001b[0mfINaK\u001b[0m\u001b[0;34m(\u001b[0m\u001b[0mv\u001b[0m\u001b[0;34m,\u001b[0m \u001b[0mh\u001b[0m\u001b[0;34m,\u001b[0m \u001b[0mn\u001b[0m\u001b[0;34m)\u001b[0m\u001b[0;34m\u001b[0m\u001b[0m\n\u001b[0m\u001b[1;32m      4\u001b[0m     \u001b[0mdv\u001b[0m \u001b[0;34m=\u001b[0m \u001b[0mINa\u001b[0m \u001b[0;34m+\u001b[0m \u001b[0mIk\u001b[0m \u001b[0;34m+\u001b[0m \u001b[0mIl\u001b[0m\u001b[0;34m\u001b[0m\u001b[0m\n\u001b[1;32m      5\u001b[0m     \u001b[0;32mreturn\u001b[0m \u001b[0mdv\u001b[0m\u001b[0;34m,\u001b[0m \u001b[0mfn\u001b[0m\u001b[0;34m,\u001b[0m \u001b[0mfh\u001b[0m\u001b[0;34m\u001b[0m\u001b[0m\n",
      "\u001b[0;32m<ipython-input-79-87359489d4ff>\u001b[0m in \u001b[0;36mfINaK\u001b[0;34m(v, h, n)\u001b[0m\n\u001b[1;32m     24\u001b[0m     \u001b[0mn_inf\u001b[0m \u001b[0;34m=\u001b[0m \u001b[0mAlpha3\u001b[0m\u001b[0;34m/\u001b[0m\u001b[0;34m(\u001b[0m\u001b[0mAlpha3\u001b[0m \u001b[0;34m+\u001b[0m \u001b[0mBeta3\u001b[0m\u001b[0;34m)\u001b[0m\u001b[0;34m;\u001b[0m\u001b[0;34m\u001b[0m\u001b[0m\n\u001b[1;32m     25\u001b[0m \u001b[0;34m\u001b[0m\u001b[0m\n\u001b[0;32m---> 26\u001b[0;31m     \u001b[0mfn\u001b[0m \u001b[0;34m=\u001b[0m \u001b[0mPhi\u001b[0m\u001b[0;34m*\u001b[0m\u001b[0;34m(\u001b[0m\u001b[0mn_inf\u001b[0m \u001b[0;34m-\u001b[0m \u001b[0mn\u001b[0m\u001b[0;34m)\u001b[0m\u001b[0;34m/\u001b[0m\u001b[0mtau_n\u001b[0m\u001b[0;34m\u001b[0m\u001b[0m\n\u001b[0m\u001b[1;32m     27\u001b[0m     \u001b[0mfh\u001b[0m \u001b[0;34m=\u001b[0m \u001b[0mPhi\u001b[0m\u001b[0;34m*\u001b[0m\u001b[0;34m(\u001b[0m\u001b[0mh_inf\u001b[0m \u001b[0;34m-\u001b[0m \u001b[0mh\u001b[0m\u001b[0;34m)\u001b[0m\u001b[0;34m/\u001b[0m\u001b[0mtau_h\u001b[0m\u001b[0;34m\u001b[0m\u001b[0m\n\u001b[1;32m     28\u001b[0m \u001b[0;34m\u001b[0m\u001b[0m\n",
      "\u001b[0;31mZeroDivisionError\u001b[0m: float division by zero"
     ]
    }
   ],
   "source": [
    "current_values = [-40., -40., -40.]\n",
    "all_values = []\n",
    "all_values.append(current_values)\n",
    "for i in range(num_iterations):\n",
    "    next_values = neuron_combined_steps(current_values)\n",
    "    all_values.append(next_values)\n",
    "    current_values = next_values"
   ]
  },
  {
   "cell_type": "code",
   "execution_count": 83,
   "metadata": {
    "collapsed": false
   },
   "outputs": [
    {
     "data": {
      "text/plain": [
       "[<matplotlib.lines.Line2D at 0x11097bb00>]"
      ]
     },
     "execution_count": 83,
     "metadata": {},
     "output_type": "execute_result"
    },
    {
     "data": {
      "image/png": "[encoded data removed]",
      "text/plain": [
       "<matplotlib.figure.Figure at 0x1116e6630>"
      ]
     },
     "metadata": {},
     "output_type": "display_data"
    }
   ],
   "source": [
    "plt.plot([x[0] for x in all_values])"
   ]
  },
  {
   "cell_type": "code",
   "execution_count": null,
   "metadata": {
    "collapsed": true
   },
   "outputs": [],
   "source": []
  }
 ],
 "metadata": {
  "kernelspec": {
   "display_name": "Python 3",
   "language": "python",
   "name": "python3"
  },
  "language_info": {
   "codemirror_mode": {
    "name": "ipython",
    "version": 3
   },
   "file_extension": ".py",
   "mimetype": "text/x-python",
   "name": "python",
   "nbconvert_exporter": "python",
   "pygments_lexer": "ipython3",
   "version": "3.5.2"
  }
 },
 "nbformat": 4,
 "nbformat_minor": 0
}
