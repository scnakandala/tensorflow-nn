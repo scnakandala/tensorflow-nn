{
 "cells": [
  {
   "cell_type": "code",
   "execution_count": 1,
   "metadata": {
    "collapsed": false
   },
   "outputs": [],
   "source": [
    "import tensorflow as tf\n",
    "import numpy as np\n",
    "from random import randint\n",
    "import matplotlib.pyplot as plt\n",
    "\n",
    "import tensorflow_nn\n",
    "\n",
    "%matplotlib inline"
   ]
  },
  {
   "cell_type": "code",
   "execution_count": 2,
   "metadata": {
    "collapsed": false
   },
   "outputs": [],
   "source": [
    "tf.reset_default_graph()"
   ]
  },
  {
   "cell_type": "code",
   "execution_count": null,
   "metadata": {
    "collapsed": true
   },
   "outputs": [],
   "source": [
    "num_neurons = 10000\n",
    "iterations = 10000"
   ]
  },
  {
   "cell_type": "markdown",
   "metadata": {},
   "source": [
    "### Defining connections"
   ]
  },
  {
   "cell_type": "code",
   "execution_count": null,
   "metadata": {
    "collapsed": false
   },
   "outputs": [],
   "source": [
    "connections = []\n",
    "connection_weights = []\n",
    "for i in range(num_neurons):\n",
    "    temp_conns = []\n",
    "    temp_weights = []\n",
    "    for j in range(num_neurons):\n",
    "        if i != j:\n",
    "            number = randint(0, 99)\n",
    "            if number < 5:\n",
    "                temp_conns.append(j)\n",
    "                temp_weights.append(5/100)\n",
    "    connections.append(np.asarray(temp_conns))\n",
    "    connection_weights.append(np.asarray(temp_weights))"
   ]
  },
  {
   "cell_type": "markdown",
   "metadata": {},
   "source": [
    "### Defining initial state"
   ]
  },
  {
   "cell_type": "code",
   "execution_count": null,
   "metadata": {
    "collapsed": false
   },
   "outputs": [],
   "source": [
    "inputs = np.array([[0.]*(num_neurons)] * iterations)\n",
    "\n",
    "v_initial = np.array([-40.]*num_neurons)\n",
    "n_initial = np.array([-40.]*num_neurons)\n",
    "h_initial = np.array([-40.]*num_neurons)\n",
    "\n",
    "fired_initial = tf.zeros(num_neurons)\n",
    "\n",
    "initial_state = tensorflow_nn.BNNState(\n",
    "    rk_variables=[v_initial, n_initial, h_initial], channel_params=[0.01, 0.001], iteration=0., fired=fired_initial\n",
    ")"
   ]
  },
  {
   "cell_type": "markdown",
   "metadata": {},
   "source": [
    "### Defining custom current functions"
   ]
  },
  {
   "cell_type": "code",
   "execution_count": null,
   "metadata": {
    "collapsed": true
   },
   "outputs": [],
   "source": [
    "def fIl1(constants, rk_variables, channel_params, iteration, fired, step_input, connections, connection_weights):\n",
    "    # global constants\n",
    "    ve, h, firing_threshold, firing_reset = constants\n",
    "    \n",
    "    #rk variables\n",
    "    v, n, h = rk_variables\n",
    "    \n",
    "    #channel params\n",
    "    c1, c2 = channel_params\n",
    "    \n",
    "    v_new = tf.scalar_mul(c1, (ve-v))\n",
    "        \n",
    "    return [v_new, tf.zeros(num_neurons), tf.zeros(num_neurons)]\n",
    "\n",
    "\n",
    "def fIl2(constants, rk_variables, channel_params, iteration, fired, step_input, connections, connection_weights):\n",
    "    # global constants\n",
    "    ve, h, firing_threshold, firing_reset = constants\n",
    "        \n",
    "    #rk variables\n",
    "    v, n, h = rk_variables\n",
    "    \n",
    "    #channel params\n",
    "    c1, c2 = channel_params\n",
    "    \n",
    "    n_new = tf.scalar_mul(c2, (ve-n))\n",
    "        \n",
    "    return [tf.zeros(num_neurons), n_new, tf.zeros(num_neurons)]\n",
    "\n",
    "\n",
    "def fIs(constants, rk_variables, channel_params, iteration, fired, step_input, connections, connection_weights):\n",
    "    # global constants\n",
    "    ve, h, firing_threshold, firing_reset = constants\n",
    "        \n",
    "    #rk variables\n",
    "    v, n, h = rk_variables\n",
    "    \n",
    "    mul_product = []\n",
    "\n",
    "    for i in range(num_neurons):\n",
    "        gather = tf.gather(tf.multiply(v, fired), connections[i])\n",
    "        weighted_gather = tf.multiply(gather, connection_weights[i])\n",
    "        mul_product.append(tf.reduce_sum(gather))    \n",
    "     \n",
    "    return [tf.stack(mul_product, 0), tf.zeros(num_neurons), tf.zeros(num_neurons)]\n",
    "    \n",
    "current_functions = [fIl1, fIl2, fIs]"
   ]
  },
  {
   "cell_type": "markdown",
   "metadata": {},
   "source": [
    "### Instantiate and run the simulation"
   ]
  },
  {
   "cell_type": "code",
   "execution_count": null,
   "metadata": {
    "collapsed": false,
    "scrolled": false
   },
   "outputs": [],
   "source": [
    "bnn = tensorflow_nn.TFBNN(\n",
    "    num_neurons=num_neurons, iterations=iterations, ve=-60., h=0.01, firing_threshold=1.,\n",
    "    firing_reset=-.3, current_functions=current_functions, initial_state=initial_state,\n",
    "    inputs=inputs, connections=connections, connection_weights=connection_weights\n",
    ")"
   ]
  },
  {
   "cell_type": "code",
   "execution_count": null,
   "metadata": {
    "collapsed": false,
    "scrolled": false
   },
   "outputs": [],
   "source": [
    "%%time\n",
    "output = bnn.run_simulation()"
   ]
  },
  {
   "cell_type": "code",
   "execution_count": null,
   "metadata": {
    "collapsed": false
   },
   "outputs": [],
   "source": [
    "plt.figure(figsize=(20,5))\n",
    "plt.title('Neuron Activations')\n",
    "n = 2\n",
    "for i in range(n):\n",
    "    plt.plot([y[i] for y in output[0][0]], label='v_'+str(i), alpha=(i+1.0)/(n))\n",
    "plt.legend()\n",
    "plt.show()"
   ]
  },
  {
   "cell_type": "code",
   "execution_count": null,
   "metadata": {
    "collapsed": true
   },
   "outputs": [],
   "source": []
  }
 ],
 "metadata": {
  "kernelspec": {
   "display_name": "Python 3",
   "language": "python",
   "name": "python3"
  },
  "language_info": {
   "codemirror_mode": {
    "name": "ipython",
    "version": 3
   },
   "file_extension": ".py",
   "mimetype": "text/x-python",
   "name": "python",
   "nbconvert_exporter": "python",
   "pygments_lexer": "ipython3",
   "version": "3.5.2"
  }
 },
 "nbformat": 4,
 "nbformat_minor": 0
}
