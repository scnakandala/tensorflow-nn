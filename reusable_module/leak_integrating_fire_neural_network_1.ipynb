{
 "cells": [
  {
   "cell_type": "code",
   "execution_count": 1,
   "metadata": {
    "collapsed": false
   },
   "outputs": [],
   "source": [
    "import tensorflow as tf\n",
    "import numpy as np\n",
    "from random import randint\n",
    "import matplotlib.pyplot as plt\n",
    "\n",
    "import tensorflow_nn\n",
    "\n",
    "%matplotlib inline"
   ]
  },
  {
   "cell_type": "code",
   "execution_count": 2,
   "metadata": {
    "collapsed": false
   },
   "outputs": [],
   "source": [
    "tf.reset_default_graph()"
   ]
  },
  {
   "cell_type": "code",
   "execution_count": 3,
   "metadata": {
    "collapsed": true
   },
   "outputs": [],
   "source": [
    "num_neurons = 125\n",
    "iterations = 1000"
   ]
  },
  {
   "cell_type": "markdown",
   "metadata": {},
   "source": [
    "### Defining connections"
   ]
  },
  {
   "cell_type": "code",
   "execution_count": 4,
   "metadata": {
    "collapsed": false
   },
   "outputs": [],
   "source": [
    "num_of_e_neurons = 100\n",
    "num_of_i_neurons = 25\n",
    "\n",
    "connections = []\n",
    "connection_weights = []\n",
    "for i in range(num_neurons):\n",
    "    temp_conns = []\n",
    "    temp_weights = []\n",
    "    \n",
    "    if i < num_of_e_neurons:\n",
    "        count = 0\n",
    "        for j in range(num_of_e_neurons):\n",
    "            if i != j:\n",
    "                number = randint(0, 99)\n",
    "                if number < 10:\n",
    "                    temp_conns.append(j)\n",
    "                    count = count + 1\n",
    "        temp_weights.extend(np.random.normal(.1, .05, count).tolist())\n",
    "        \n",
    "        count = 0\n",
    "        for j in range(num_of_e_neurons, num_of_e_neurons + num_of_i_neurons):\n",
    "            if i != j:\n",
    "                number = randint(0, 99)\n",
    "                if number < 10:\n",
    "                    temp_conns.append(j)\n",
    "                    count = count + 1\n",
    "        temp_weights.extend(np.random.normal(.1, .05, count).tolist())\n",
    "    else:\n",
    "        count = 0\n",
    "        for j in range(num_of_e_neurons):\n",
    "            if i != j:\n",
    "                number = randint(0, 99)\n",
    "                if number < 15:\n",
    "                    temp_conns.append(j)\n",
    "                    count = count + 1\n",
    "        temp_weights.extend(np.random.normal(.1, .05, count).tolist())\n",
    "\n",
    "                \n",
    "    connections.append(tf.Variable(np.asarray(temp_conns), dtype=tf.int32))\n",
    "    connection_weights.append(tf.Variable(np.asarray(temp_weights), dtype=tf.float32))"
   ]
  },
  {
   "cell_type": "markdown",
   "metadata": {},
   "source": [
    "### Defining initial state"
   ]
  },
  {
   "cell_type": "code",
   "execution_count": 5,
   "metadata": {
    "collapsed": false
   },
   "outputs": [],
   "source": [
    "inputs = tf.Variable(np.array([[0.]*(num_neurons)] * iterations))\n",
    "\n",
    "v_initial = tf.Variable(np.array([-40.]*num_neurons), dtype=tf.float32)\n",
    "n_initial = tf.Variable(np.array([-40.]*num_neurons), dtype=tf.float32)\n",
    "h_initial = tf.Variable(np.array([-40.]*num_neurons), dtype=tf.float32)\n",
    "\n",
    "fired_initial = tf.zeros(num_neurons)\n",
    "fired_iteration = tf.zeros(num_neurons)\n",
    "\n",
    "initial_state = tensorflow_nn.BNNState(\n",
    "    rk_variables=[v_initial, n_initial, h_initial], iteration=tf.Variable(0.), fired=fired_initial,\n",
    "        fired_iteration=fired_iteration\n",
    ")"
   ]
  },
  {
   "cell_type": "markdown",
   "metadata": {},
   "source": [
    "### Defining custom current functions"
   ]
  },
  {
   "cell_type": "code",
   "execution_count": 6,
   "metadata": {
    "collapsed": false
   },
   "outputs": [],
   "source": [
    "ve = tf.Variable(np.random.normal(-65., 2, num_neurons), dtype=tf.float32)\n",
    "gl = tf.Variable(np.random.normal(0.002, 0.0001, num_neurons), dtype=tf.float32)\n",
    "dc = tf.Variable(np.random.normal(0.1, 0.1, num_neurons), dtype=tf.float32)\n",
    "\n",
    "def fIl(rk_variables, iteration, fired, fired_iteration, step_input, connections, connection_weights):\n",
    "    #rk variables\n",
    "    v, n, h = rk_variables\n",
    "        \n",
    "    v_new = tf.add(tf.multiply(gl, tf.subtract(ve, v)), dc)\n",
    "        \n",
    "    return [v_new, None, None]\n",
    "\n",
    "tau = tf.constant(100.)\n",
    "vs_ampa = tf.constant(0.) \n",
    "vs_gaba = tf.constant(-90.) \n",
    "def fIs(rk_variables, iteration, fired, fired_iteration, step_input, connections, connection_weights):        \n",
    "    #rk variables\n",
    "    v, n, h = rk_variables\n",
    "    \n",
    "    mul_product = []\n",
    "\n",
    "    for i in range(num_neurons):\n",
    "        #ampa synapses\n",
    "        ampa_indices = tf.where(connections[i] < num_of_e_neurons)\n",
    "        ampa_gather = tf.gather(tf.multiply(v, fired), tf.gather(connections[i], ampa_indices))\n",
    "        ampa_weighted_gather = tf.multiply(tf.subtract(vs_ampa, ampa_gather),\n",
    "                                           tf.gather(connection_weights[i], ampa_indices))\n",
    "\n",
    "        #gaba synapses\n",
    "        gaba_indices = tf.where(connections[i] >= num_of_e_neurons)\n",
    "        gaba_gather = tf.gather(tf.multiply(v, fired), tf.gather(connections[i], gaba_indices))\n",
    "        gaba_weighted_gather = tf.multiply(tf.subtract(vs_gaba, gaba_gather),\n",
    "                                           tf.gather(connection_weights[i], gaba_indices))\n",
    "\n",
    "        weighted_gather = tf.concat([ampa_weighted_gather, gaba_weighted_gather], 0)\n",
    "        \n",
    "        wg_mul_by_gs = tf.multiply(tf.exp(tf.divide(tf.subtract(iteration, fired_iteration), tau)), weighted_gather)\n",
    "        \n",
    "        mul_product.append(tf.reduce_sum(wg_mul_by_gs)) \n",
    "\n",
    "    return [tf.stack(mul_product, 0), None, None]\n",
    "    \n",
    "current_functions = [fIl, fIs]"
   ]
  },
  {
   "cell_type": "markdown",
   "metadata": {},
   "source": [
    "### Instantiate and run the simulation"
   ]
  },
  {
   "cell_type": "code",
   "execution_count": 7,
   "metadata": {
    "collapsed": false,
    "scrolled": false
   },
   "outputs": [],
   "source": [
    "bnn = tensorflow_nn.TFBNN(\n",
    "    num_neurons=num_neurons, iterations=iterations, h=tf.constant(0.01), firing_threshold=tf.constant(-50.),\n",
    "    firing_reset=tf.constant(-65.), current_functions=current_functions, initial_state=initial_state,\n",
    "    inputs=inputs, connections=connections, connection_weights=connection_weights\n",
    ")"
   ]
  },
  {
   "cell_type": "code",
   "execution_count": 8,
   "metadata": {
    "collapsed": false,
    "scrolled": false
   },
   "outputs": [
    {
     "name": "stdout",
     "output_type": "stream",
     "text": [
      "CPU times: user 2min 31s, sys: 1min 26s, total: 3min 57s\n",
      "Wall time: 1min 40s\n"
     ]
    }
   ],
   "source": [
    "%%time\n",
    "output = bnn.run_simulation()"
   ]
  },
  {
   "cell_type": "code",
   "execution_count": 10,
   "metadata": {
    "collapsed": false
   },
   "outputs": [
    {
     "name": "stderr",
     "output_type": "stream",
     "text": [
      "//anaconda/lib/python3.5/site-packages/matplotlib/axes/_axes.py:545: UserWarning: No labelled objects found. Use label='...' kwarg on individual plots.\n",
      "  warnings.warn(\"No labelled objects found. \"\n"
     ]
    },
    {
     "data": {
      "image/png": "[encoded data removed]",
      "text/plain": [
       "<matplotlib.figure.Figure at 0x11cc69198>"
      ]
     },
     "metadata": {},
     "output_type": "display_data"
    }
   ],
   "source": [
    "plt.figure(figsize=(20,10))\n",
    "plt.title('Neuron Activations')\n",
    "n = 125\n",
    "for i in range(n):\n",
    "    plt.plot([y[i] for y in output[0][0]])#, label='v_'+str(i), alpha=(i+1.0)/(n))\n",
    "plt.legend()\n",
    "plt.show()"
   ]
  },
  {
   "cell_type": "code",
   "execution_count": null,
   "metadata": {
    "collapsed": true
   },
   "outputs": [],
   "source": []
  }
 ],
 "metadata": {
  "kernelspec": {
   "display_name": "Python 3",
   "language": "python",
   "name": "python3"
  },
  "language_info": {
   "codemirror_mode": {
    "name": "ipython",
    "version": 3
   },
   "file_extension": ".py",
   "mimetype": "text/x-python",
   "name": "python",
   "nbconvert_exporter": "python",
   "pygments_lexer": "ipython3",
   "version": "3.5.2"
  }
 },
 "nbformat": 4,
 "nbformat_minor": 0
}
