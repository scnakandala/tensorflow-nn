{
 "cells": [
  {
   "cell_type": "code",
   "execution_count": 1,
   "metadata": {
    "collapsed": false
   },
   "outputs": [],
   "source": [
    "import tensorflow as tf\n",
    "import numpy as np\n",
    "from random import randint\n",
    "import matplotlib.pyplot as plt\n",
    "\n",
    "import tensorflow_nn\n",
    "\n",
    "%matplotlib inline"
   ]
  },
  {
   "cell_type": "code",
   "execution_count": 2,
   "metadata": {
    "collapsed": false
   },
   "outputs": [],
   "source": [
    "tf.reset_default_graph()"
   ]
  },
  {
   "cell_type": "code",
   "execution_count": 3,
   "metadata": {
    "collapsed": true
   },
   "outputs": [],
   "source": [
    "num_neurons = 500\n",
    "iterations = 5000"
   ]
  },
  {
   "cell_type": "markdown",
   "metadata": {},
   "source": [
    "### Defining connections"
   ]
  },
  {
   "cell_type": "code",
   "execution_count": 4,
   "metadata": {
    "collapsed": false
   },
   "outputs": [],
   "source": [
    "num_of_e_neurons = 400\n",
    "num_of_i_neurons = 100\n",
    "\n",
    "x = 4\n",
    "\n",
    "connections = []\n",
    "connection_weights = []\n",
    "for i in range(num_neurons):\n",
    "    temp_conns = []\n",
    "    temp_weights = []\n",
    "    \n",
    "#     if i==100:\n",
    "#         temp_conns.append(0.)\n",
    "#         temp_weights.append(0.1)\n",
    "        \n",
    "    if i < num_of_e_neurons:\n",
    "        count = 0\n",
    "        for j in range(num_of_e_neurons):\n",
    "            if i != j:\n",
    "                number = randint(0, 99)\n",
    "                if number < 10 * x:\n",
    "                    temp_conns.append(j)\n",
    "                    count = count + 1\n",
    "    \n",
    "        if count > 0:\n",
    "            temp_weights.extend(np.absolute(np.random.normal(.1, .05, count)).tolist())\n",
    "        \n",
    "        count = 0\n",
    "        for j in range(num_of_e_neurons, num_of_e_neurons + num_of_i_neurons):\n",
    "            if i != j:\n",
    "                number = randint(0, 99)\n",
    "                if number < 10 * x:\n",
    "                    temp_conns.append(j)\n",
    "                    count = count + 1\n",
    "        if count > 0:\n",
    "            temp_weights.extend(np.absolute(np.random.normal(.1, .05, count)).tolist())\n",
    "    else:\n",
    "        count = 0\n",
    "        for j in range(num_of_e_neurons):\n",
    "            if i != j:\n",
    "                number = randint(0, 99)\n",
    "                if number < 15 * x:\n",
    "                    temp_conns.append(j)\n",
    "                    count = count + 1\n",
    "        if count > 0:\n",
    "            temp_weights.extend(np.absolute(np.random.normal(.1, .05, count)).tolist())\n",
    "\n",
    "                \n",
    "    connections.append(tf.Variable(np.asarray(temp_conns), dtype=tf.int32))\n",
    "    connection_weights.append(tf.Variable(np.asarray(temp_weights), dtype=tf.float32))"
   ]
  },
  {
   "cell_type": "markdown",
   "metadata": {},
   "source": [
    "### Defining initial state"
   ]
  },
  {
   "cell_type": "code",
   "execution_count": 5,
   "metadata": {
    "collapsed": false
   },
   "outputs": [],
   "source": [
    "inputs = tf.Variable(np.array([[0.]*(num_neurons)] * iterations))\n",
    "\n",
    "ve_initial = tf.Variable(np.array([-40.]*num_of_e_neurons), dtype=tf.float32)\n",
    "\n",
    "vi_initial = tf.Variable(np.array([-40.]*num_of_i_neurons), dtype=tf.float32)\n",
    "\n",
    "ve_fired_initial = tf.zeros(num_of_e_neurons)\n",
    "ve_fired_iteration = tf.zeros(num_of_e_neurons)\n",
    "\n",
    "vi_fired_initial = tf.zeros(num_of_i_neurons)\n",
    "vi_fired_iteration = tf.zeros(num_of_i_neurons)\n",
    "\n",
    "initial_state = tensorflow_nn.BNNState(\n",
    "    rk_variables=[[ve_initial], [vi_initial]],\n",
    "    iteration=tf.Variable(0.), fired=[ve_fired_initial, vi_fired_initial],\n",
    "    fired_iteration=[ve_fired_iteration, vi_fired_iteration])"
   ]
  },
  {
   "cell_type": "markdown",
   "metadata": {},
   "source": [
    "### Defining custom current functions"
   ]
  },
  {
   "cell_type": "code",
   "execution_count": 6,
   "metadata": {
    "collapsed": false
   },
   "outputs": [],
   "source": [
    "def current_func(rk_variables, iteration, fired, fired_iteration, step_input, connections, connection_weights):\n",
    "    [[ve], [vi]] = rk_variables\n",
    "    [ve_fired, vi_fired] = fired\n",
    "    [ve_fired_iter, vi_fired_iter] = fired_iteration\n",
    "    \n",
    "    #e type neurons\n",
    "    ve_new = fIl_ve(ve)\n",
    "    \n",
    "    #i type neurons\n",
    "    vi_new = fIl_vi(vi)\n",
    "    \n",
    "    #synapse calculation\n",
    "    ve_syn, vi_syn = fIs(tf.concat([ve, vi], 0), iteration, tf.concat([ve_fired, vi_fired], 0),\n",
    "                         tf.concat([ve_fired_iteration, vi_fired_iteration], 0),\n",
    "                         connections, connection_weights)\n",
    "    return [[tf.add(ve_new,ve_syn)], [tf.add(vi_new,vi_syn)]]\n",
    "\n",
    "\n",
    "v_e = tf.Variable(np.random.normal(-65., 2, num_of_e_neurons), dtype=tf.float32)\n",
    "gl_e = tf.Variable(np.random.normal(0.002, 0.0001, num_of_e_neurons), dtype=tf.float32)\n",
    "dc_e_list = [0.] * num_of_e_neurons\n",
    "dc_e_list[0] = 0.05\n",
    "dc_e = tf.Variable(np.asarray(dc_e_list), dtype=tf.float32)\n",
    "\n",
    "def fIl_ve(ve):\n",
    "    ve_new = tf.add(tf.multiply(gl_e, tf.subtract(v_e, ve)), dc_e)\n",
    "    return ve_new\n",
    "\n",
    "\n",
    "\n",
    "\n",
    "v_i = tf.Variable(np.random.normal(-65., 2, num_of_i_neurons), dtype=tf.float32)\n",
    "gl_i = tf.Variable(np.random.normal(0.002, 0.0001, num_of_i_neurons), dtype=tf.float32)\n",
    "\n",
    "dc_i_list = [0.] * num_of_i_neurons\n",
    "dc_i = tf.Variable(np.asarray(dc_i_list), dtype=tf.float32)\n",
    "\n",
    "def fIl_vi(vi):\n",
    "    vi_new = tf.add(tf.multiply(gl_i, tf.subtract(v_i, vi)), dc_i)\n",
    "    return vi_new\n",
    "\n",
    "\n",
    "tau = tf.constant(100.)\n",
    "vs_ampa = tf.constant(0.) \n",
    "vs_gaba = tf.constant(-90.)\n",
    "\n",
    "def fIs(v, iteration, fired, fired_iteration, connections, connection_weights):\n",
    "    \n",
    "    mul_product = []\n",
    "    for i in range(num_neurons):\n",
    "        #ampa synapses\n",
    "        ampa_indices = tf.where(connections[i] < num_of_e_neurons)\n",
    "        ampa_gather = tf.gather(tf.multiply(v, fired), tf.gather(connections[i], ampa_indices))\n",
    "        ampa_weighted_gather = tf.multiply(tf.subtract(vs_ampa, ampa_gather),\n",
    "                                           tf.gather(connection_weights[i], ampa_indices))\n",
    "\n",
    "        #gaba synapses\n",
    "        gaba_indices = tf.where(connections[i] >= num_of_e_neurons)\n",
    "        gaba_gather = tf.gather(tf.multiply(v, fired), tf.gather(connections[i], gaba_indices))\n",
    "        gaba_weighted_gather = tf.multiply(tf.subtract(vs_gaba, gaba_gather),\n",
    "                                           tf.gather(connection_weights[i], gaba_indices))\n",
    "\n",
    "        weighted_gather = tf.concat([ampa_weighted_gather, gaba_weighted_gather], 0)\n",
    "\n",
    "        wg_mul_by_gs = tf.multiply(tf.exp(tf.divide(tf.subtract(iteration, fired_iteration), tau)), weighted_gather)\n",
    "\n",
    "        mul_product.append(tf.reduce_sum(wg_mul_by_gs)) \n",
    "\n",
    "    syn_in = tf.stack(mul_product, 0)\n",
    "    return tf.split(syn_in, [num_of_e_neurons, num_of_i_neurons], 0)"
   ]
  },
  {
   "cell_type": "markdown",
   "metadata": {},
   "source": [
    "### Instantiate and run the simulation"
   ]
  },
  {
   "cell_type": "code",
   "execution_count": 7,
   "metadata": {
    "collapsed": false,
    "scrolled": false
   },
   "outputs": [],
   "source": [
    "bnn = tensorflow_nn.TFBNN(\n",
    "    num_neurons=num_neurons, iterations=iterations, h=tf.constant(0.01), firing_threshold=tf.constant(-50.),\n",
    "    firing_reset=tf.constant(-65.), current_func=current_func, initial_state=initial_state,\n",
    "    inputs=inputs, connections=connections, connection_weights=connection_weights\n",
    ")"
   ]
  },
  {
   "cell_type": "code",
   "execution_count": 8,
   "metadata": {
    "collapsed": false,
    "scrolled": false
   },
   "outputs": [
    {
     "name": "stdout",
     "output_type": "stream",
     "text": [
      "CPU times: user 16h 56min 24s, sys: 7min 20s, total: 17h 3min 45s\n",
      "Wall time: 3h 20min 1s\n"
     ]
    }
   ],
   "source": [
    "%%time\n",
    "output = bnn.run_simulation()"
   ]
  },
  {
   "cell_type": "code",
   "execution_count": 9,
   "metadata": {
    "collapsed": false,
    "scrolled": false
   },
   "outputs": [],
   "source": [
    "# plt.figure(figsize=(20,10))\n",
    "# plt.title('Neuron Activations')\n",
    "\n",
    "# for i in range(num_of_e_neurons):\n",
    "#     plt.plot([y[i] for y in output[0][0][0]], label='v'+str(i+1))\n",
    "\n",
    "# for i in range(num_of_i_neurons):\n",
    "#     plt.plot([y[i] for y in output[0][1][0]], label='v'+str(i+100))\n",
    "\n",
    "# plt.show()"
   ]
  },
  {
   "cell_type": "code",
   "execution_count": null,
   "metadata": {
    "collapsed": true
   },
   "outputs": [],
   "source": []
  }
 ],
 "metadata": {
  "kernelspec": {
   "display_name": "Python 3",
   "language": "python",
   "name": "python3"
  },
  "language_info": {
   "codemirror_mode": {
    "name": "ipython",
    "version": 3
   },
   "file_extension": ".py",
   "mimetype": "text/x-python",
   "name": "python",
   "nbconvert_exporter": "python",
   "pygments_lexer": "ipython3",
   "version": "3.5.2"
  }
 },
 "nbformat": 4,
 "nbformat_minor": 0
}
