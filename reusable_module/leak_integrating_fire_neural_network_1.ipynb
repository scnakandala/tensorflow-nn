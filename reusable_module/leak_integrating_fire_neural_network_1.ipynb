{
 "cells": [
  {
   "cell_type": "code",
   "execution_count": 1,
   "metadata": {
    "button": false,
    "collapsed": true,
    "run_control": {
     "read_only": false
    }
   },
   "outputs": [],
   "source": [
    "import tensorflow as tf\n",
    "import numpy as np\n",
    "from random import randint\n",
    "import matplotlib.pyplot as plt\n",
    "\n",
    "import tensorflow_nn\n",
    "\n",
    "%matplotlib inline"
   ]
  },
  {
   "cell_type": "code",
   "execution_count": 2,
   "metadata": {
    "button": false,
    "collapsed": true,
    "run_control": {
     "read_only": false
    }
   },
   "outputs": [],
   "source": [
    "tf.reset_default_graph()"
   ]
  },
  {
   "cell_type": "code",
   "execution_count": 3,
   "metadata": {
    "button": false,
    "collapsed": true,
    "run_control": {
     "read_only": false
    }
   },
   "outputs": [],
   "source": [
    "num_neurons = 500\n",
    "iterations = 5000"
   ]
  },
  {
   "cell_type": "markdown",
   "metadata": {
    "button": false,
    "run_control": {
     "read_only": false
    }
   },
   "source": [
    "### Defining connections"
   ]
  },
  {
   "cell_type": "code",
   "execution_count": 4,
   "metadata": {
    "button": false,
    "run_control": {
     "read_only": false
    },
    "scrolled": false
   },
   "outputs": [],
   "source": [
    "num_of_e_neurons = 400\n",
    "num_of_i_neurons = 100\n",
    "\n",
    "connections = []\n",
    "connection_weights = []\n",
    "for i in range(num_neurons):\n",
    "    temp_conns = []\n",
    "    temp_weights = []\n",
    "\n",
    "    if i < num_of_e_neurons:\n",
    "        for j in range(num_of_e_neurons):\n",
    "            number = randint(0, 99)\n",
    "            if (i != j) and (number < 40):\n",
    "                temp_conns.append(j*1.0)\n",
    "                temp_weights.append(0.01)\n",
    "        for j in range(num_of_e_neurons, num_of_e_neurons + num_of_i_neurons):\n",
    "            number = randint(0, 99)\n",
    "            if (i != j) and (number < 40):\n",
    "                temp_conns.append(j*1.0)\n",
    "                temp_weights.append(0.01)\n",
    "    else:\n",
    "        for j in range(num_of_e_neurons):\n",
    "            number = randint(0, 99)\n",
    "            if (i != j) and (number < 60):\n",
    "                temp_conns.append(j*1.0)\n",
    "                temp_weights.append(0.01)\n",
    "                \n",
    "    connections.append(temp_conns)\n",
    "    connection_weights.append(temp_weights)"
   ]
  },
  {
   "cell_type": "markdown",
   "metadata": {
    "button": false,
    "run_control": {
     "read_only": false
    }
   },
   "source": [
    "### Defining initial state"
   ]
  },
  {
   "cell_type": "code",
   "execution_count": 5,
   "metadata": {
    "button": false,
    "collapsed": true,
    "run_control": {
     "read_only": false
    }
   },
   "outputs": [],
   "source": [
    "inputs = tf.Variable(np.array([[0.]*(num_neurons)] * iterations))\n",
    "\n",
    "# STEP 1 for adding RK variables\n",
    "ve_initial = tf.Variable(np.array([-40.]*num_of_e_neurons), dtype=tf.float32)\n",
    "w_initial = tf.Variable(np.array([0.]*num_of_e_neurons), dtype=tf.float32)\n",
    "\n",
    "vi_initial = tf.Variable(np.array([-40.]*num_of_i_neurons), dtype=tf.float32)\n",
    "\n",
    "ve_fired_initial = tf.zeros(num_of_e_neurons)\n",
    "ve_fired_iteration = tf.zeros(num_of_e_neurons)\n",
    "\n",
    "vi_fired_initial = tf.zeros(num_of_i_neurons)\n",
    "vi_fired_iteration = tf.zeros(num_of_i_neurons)\n",
    "\n",
    "# STEP 2 for adding RK variables\n",
    "initial_state = tensorflow_nn.BNNState(\n",
    "    rk_variables=[[ve_initial, w_initial], [vi_initial]],\n",
    "    iteration=tf.Variable(0.), fired=[ve_fired_initial, vi_fired_initial],\n",
    "    fired_iteration=[ve_fired_iteration, vi_fired_iteration])"
   ]
  },
  {
   "cell_type": "markdown",
   "metadata": {
    "button": false,
    "run_control": {
     "read_only": false
    }
   },
   "source": [
    "### Defining custom current functions"
   ]
  },
  {
   "cell_type": "code",
   "execution_count": 6,
   "metadata": {
    "button": false,
    "run_control": {
     "read_only": false
    }
   },
   "outputs": [],
   "source": [
    "def current_func(rk_variables, iteration, fired, fired_iteration, step_input, connections, connection_weights):\n",
    "    [[ve,w], [vi]] = rk_variables # STEP 3 for adding RK variables\n",
    "    [ve_fired, vi_fired] = fired\n",
    "    [ve_fired_iter, vi_fired_iter] = fired_iteration\n",
    "    \n",
    "    #e type neurons\n",
    "    ve_new = fIl_ve(ve)\n",
    "    ve_new = fIl_ve(ve) # STEP 4 for adding new RK variables\n",
    "    \n",
    "    #i type neurons\n",
    "    vi_new = fIl_vi(vi)\n",
    "    \n",
    "    #synapse calculation\n",
    "    ## ...for loop for each type of connection and each type of input.....\n",
    "    v = tf.concat([ve, vi], 0)\n",
    "    fired = tf.concat([ve_fired, vi_fired], 0)\n",
    "    fired_iteration = tf.concat([ve_fired_iteration, vi_fired_iteration], 0)\n",
    "    ve_syn, vi_syn = fIs(v, iteration, fired, fired_iteration, connections, connection_weights)\n",
    "    \n",
    "    # STEP 5 for adding new RK variables\n",
    "    return [[tf.add(ve_new,ve_syn),w], [tf.add(vi_new,vi_syn)]]\n",
    "\n",
    "\n",
    "# ADD constants here\n",
    "v_e = tf.Variable(np.random.normal(-65., 0.001, num_of_e_neurons), dtype=tf.float32)\n",
    "gl_e = tf.Variable(np.random.normal(0.02, 0.001, num_of_e_neurons), dtype=tf.float32)\n",
    "dc_e_list = [0.] * num_of_e_neurons\n",
    "dc_e_list[0] = 0.5\n",
    "dc_e = tf.Variable(np.asarray(dc_e_list), dtype=tf.float32)\n",
    "Delta_T = 0.0\n",
    "V_T = 0.0\n",
    "A = 0.0\n",
    "\n",
    "def fIl_ve(ve,w):\n",
    "# excitatory neurons\n",
    "    dv = tf.add(tf.multiply(gl_e, tf.subtract(v_e, ve)), dc_e)\n",
    "    # Uncomment below for adaptive exponential IF neurons\n",
    "    #dv = tf.add(tf.multiply(gl_e, tf.subtract(v_e, ve)), tf.multiply(gl_e , tf.multiply(Delta_T, tf.exp(tf.divide(tf.subtract(ve,V_T),Delta_T)))))\n",
    "    #dv = tf.subtract(dv,w)\n",
    "    return dv\n",
    "\n",
    "def fIl_we(ve,w):\n",
    "    dw = tf.subtract(tf.multiply(A, tf.subtract(ve,v_e)), w)\n",
    "    return dw\n",
    "    \n",
    "v_i = tf.Variable(np.random.normal(-65., 0.001, num_of_i_neurons), dtype=tf.float32)\n",
    "gl_i = tf.Variable(np.random.normal(0.02, 0.001, num_of_i_neurons), dtype=tf.float32)\n",
    "\n",
    "dc_i_list = [0.] * num_of_i_neurons\n",
    "dc_i = tf.Variable(np.asarray(dc_i_list), dtype=tf.float32)\n",
    "\n",
    "def fIl_vi(vi):\n",
    "# inhibitory neurons\n",
    "    dv = tf.add(tf.multiply(gl_i, tf.subtract(v_i, vi)), dc_i)\n",
    "    return dv\n",
    "\n",
    "\n",
    "\n",
    "#####################################################################\n",
    "##      Syanapse Current Calculations                              ##\n",
    "#####################################################################\n",
    "\n",
    "tau = tf.constant(10000.)\n",
    "vs_ampa = tf.constant(0.) \n",
    "vs_gaba = tf.constant(-90.)\n",
    "\n",
    "ampa_indices_list = []\n",
    "gaba_indices_list = []\n",
    "ampa_weights_list = []\n",
    "gaba_weights_list = []\n",
    "for i in range(num_neurons):\n",
    "    ampa_temp = []\n",
    "    gaba_temp = []\n",
    "    ampa_weights_temp = []\n",
    "    gaba_weights_temp = []\n",
    "    for j,index in enumerate(connections[i]):\n",
    "        if index < num_of_e_neurons:\n",
    "            ampa_temp.append(index)\n",
    "            ampa_weights_temp.append(connection_weights[i][j])\n",
    "        else:\n",
    "            gaba_temp.append(i)\n",
    "            gaba_weights_temp.append(connection_weights[i][j])\n",
    "    ampa_indices_list.append(tf.Variable(np.asarray(ampa_temp), dtype=tf.int32))\n",
    "    gaba_indices_list.append(tf.Variable(np.asarray(gaba_temp), dtype=tf.int32))\n",
    "    ampa_weights_list.append(tf.Variable(np.asarray(ampa_weights_temp), dtype=tf.float32))\n",
    "    gaba_weights_list.append(tf.Variable(np.asarray(gaba_weights_temp), dtype=tf.float32))\n",
    "\n",
    "def fIs(v, iteration, fired, fired_iteration, connections, connection_weights):\n",
    "    v_ampa = tf.multiply(tf.exp(tf.divide(tf.subtract(iteration, fired_iteration), tau)), tf.subtract(vs_ampa, v))\n",
    "    v_gaba = tf.multiply(tf.exp(tf.divide(tf.subtract(iteration, fired_iteration), tau)), tf.subtract(vs_gaba, v))\n",
    "    \n",
    "    mul_product = []\n",
    "    for i in range(num_neurons):\n",
    "        #ampa synapses\n",
    "        ampa_indices = ampa_indices_list[i]\n",
    "        ampa_weights = ampa_weights_list[i]\n",
    "        ampa_gather = tf.reduce_sum(tf.multiply(tf.gather(tf.multiply(v_ampa, fired), ampa_indices), ampa_weights))\n",
    "\n",
    "        #gaba synapses\n",
    "        gaba_indices = gaba_indices_list[i]\n",
    "        gaba_weights = gaba_weights_list[i]\n",
    "        gaba_gather = tf.reduce_sum(tf.multiply(tf.gather(tf.multiply(v_gaba, fired), gaba_indices), gaba_weights))\n",
    "\n",
    "        mul_product.append(tf.add(ampa_gather, gaba_gather)) \n",
    "\n",
    "    return [tf.stack(mul_product[0: num_of_e_neurons], 0), tf.stack(mul_product[num_of_e_neurons:], 0)]"
   ]
  },
  {
   "cell_type": "markdown",
   "metadata": {
    "button": false,
    "run_control": {
     "read_only": false
    }
   },
   "source": [
    "### Instantiate and run the simulation"
   ]
  },
  {
   "cell_type": "code",
   "execution_count": 7,
   "metadata": {
    "button": false,
    "run_control": {
     "read_only": false
    },
    "scrolled": false
   },
   "outputs": [],
   "source": [
    "bnn = tensorflow_nn.TFBNN(\n",
    "    num_neurons=num_neurons, iterations=iterations, h=tf.constant(0.01), firing_threshold=tf.constant(0.),\n",
    "    firing_reset=tf.constant(-65.), current_func=current_func, initial_state=initial_state,\n",
    "    inputs=inputs, connections=connections, connection_weights=connection_weights\n",
    ")"
   ]
  },
  {
   "cell_type": "code",
   "execution_count": 8,
   "metadata": {
    "button": false,
    "run_control": {
     "read_only": false
    },
    "scrolled": false
   },
   "outputs": [
    {
     "name": "stdout",
     "output_type": "stream",
     "text": [
      "CPU times: user 3min 46s, sys: 4min 46s, total: 8min 32s\n",
      "Wall time: 5min 28s\n"
     ]
    }
   ],
   "source": [
    "%%time\n",
    "output = bnn.run_simulation()"
   ]
  },
  {
   "cell_type": "code",
   "execution_count": 9,
   "metadata": {
    "button": false,
    "run_control": {
     "read_only": false
    },
    "scrolled": false
   },
   "outputs": [
    {
     "data": {
      "image/png": "[encoded data removed]",
      "text/plain": [
       "<matplotlib.figure.Figure at 0x12cdfe278>"
      ]
     },
     "metadata": {},
     "output_type": "display_data"
    }
   ],
   "source": [
    "plt.figure(figsize=(20,10))\n",
    "plt.title('Neuron Activations')\n",
    "\n",
    "for i in range(num_of_e_neurons):\n",
    "    plt.plot([y[i] for y in output[0][0][0]], label='v'+str(i+1))\n",
    "\n",
    "for i in range(num_of_i_neurons):\n",
    "    plt.plot([y[i] for y in output[0][1][0]], label='v'+str(i+100))\n",
    "\n",
    "plt.show()"
   ]
  },
  {
   "cell_type": "code",
   "execution_count": null,
   "metadata": {
    "collapsed": true
   },
   "outputs": [],
   "source": []
  }
 ],
 "metadata": {
  "kernelspec": {
   "display_name": "Python 3",
   "language": "python",
   "name": "python3"
  },
  "language_info": {
   "codemirror_mode": {
    "name": "ipython",
    "version": 3
   },
   "file_extension": ".py",
   "mimetype": "text/x-python",
   "name": "python",
   "nbconvert_exporter": "python",
   "pygments_lexer": "ipython3",
   "version": "3.6.1"
  }
 },
 "nbformat": 4,
 "nbformat_minor": 1
}
