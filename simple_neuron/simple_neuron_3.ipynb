{
 "cells": [
  {
   "cell_type": "code",
   "execution_count": null,
   "metadata": {
    "collapsed": true
   },
   "outputs": [],
   "source": [
    "import tensorflow as tf\n",
    "import numpy as np\n",
    "\n",
    "import matplotlib.pyplot as plt\n",
    "\n",
    "%matplotlib inline\n",
    "\n",
    "writer = tf.summary.FileWriter('./')"
   ]
  },
  {
   "cell_type": "code",
   "execution_count": 421,
   "metadata": {
    "collapsed": false
   },
   "outputs": [],
   "source": [
    "tf.reset_default_graph()\n",
    "\n",
    "#####################\n",
    "#     Constants     #\n",
    "#####################\n",
    "\n",
    "num_iterations = 10000\n",
    "\n",
    "h = tf.constant(0.1)\n",
    "c = tf.constant(0.1)\n",
    "ve = tf.constant(0.)\n",
    "\n",
    "decay_constant = tf.constant(0.1)\n",
    "threshold = tf.constant(10.0)\n",
    "reset = tf.constant(-3.)\n",
    "\n",
    "neuron_types = ['BIN_IND', 'CIN_IND', 'PY_IND', 'TC_IND', 'PN_IND']\n",
    "neuron_counts = [1, 1, 0, 0, 0]\n",
    "neuron_type_indices = []\n",
    "temp = 0\n",
    "for i in range(len(neuron_types)):\n",
    "    cum_sum = np.sum(neuron_counts[:i], dtype=np.int32)\n",
    "    neuron_type_indices.append(np.linspace(temp, cum_sum -1, cum_sum-temp, dtype=np.int32))\n",
    "    temp = cum_sum\n",
    "num_neurons = np.sum(neuron_counts)\n",
    "\n",
    "\n",
    "syn_cons = tf.constant(0.15)\n",
    "syn_peak = tf.constant(50.0)\n",
    "\n",
    "\n",
    "# INaK\n",
    "G_K = tf.constant(18.)\n",
    "E_K = tf.constant(-80.)\n",
    "G_Na = tf.constant(45.)\n",
    "E_Na = tf.constant(55.)\n",
    "Phi = tf.constant(4.)\n",
    "\n",
    "# ICa_ht\n",
    "G_Ca = tf.constant(1.22)\n",
    "V_Ca = tf.constant(120.)\n",
    "half_value = tf.constant(20.)\n",
    "\n",
    "# ICa\n",
    "# ICa_ht=?, cai=?, r=?\n",
    "alpha = tf.constant(0.005635716)\n",
    "Tau_ca = tf.constant(28.3904)\n",
    "\n",
    "# IKCa\n",
    "# cai=?\n",
    "g_AHP = tf.constant(5.)\n",
    "K_D = tf.constant(30.)\n",
    "V_k= tf.constant(-75.)"
   ]
  },
  {
   "cell_type": "markdown",
   "metadata": {},
   "source": [
    "#### Sparse Matrix for Synapse Connections"
   ]
  },
  {
   "cell_type": "code",
   "execution_count": 422,
   "metadata": {
    "collapsed": false
   },
   "outputs": [],
   "source": [
    "syn_conecs = tf.SparseTensor(indices=[[1, 0]], values=[1.],\n",
    "                             dense_shape=[num_neurons, num_neurons])"
   ]
  },
  {
   "cell_type": "markdown",
   "metadata": {},
   "source": [
    "#### Single Step for a Neuron Layer"
   ]
  },
  {
   "cell_type": "code",
   "execution_count": 423,
   "metadata": {
    "collapsed": false,
    "scrolled": false
   },
   "outputs": [],
   "source": [
    "# Ion channel calculations\n",
    "def fINaK(v, h, n):    \n",
    "    Alpha1 = -0.1*(v+33)/(tf.exp(-0.1*(v+33)) - 1)\n",
    "    Beta1 = 4*(tf.exp(-1*(v +58)/12))\n",
    "    m_inf = Alpha1/(Alpha1 + Beta1)\n",
    "    \n",
    "    Alpha2 = 0.07*tf.exp(-1*(v+50)/10)\n",
    "    Beta2 = 1/(tf.exp(-0.1*(v+20)) + 1)\n",
    "    tau_h = 1/(Alpha2 + Beta2)\n",
    "    h_inf = Alpha2/(Alpha2 + Beta2)\n",
    "    \n",
    "    Alpha3 = -0.01*(v+34)/(tf.exp(-0.1*(v+34)) - 1);\n",
    "    Beta3 = 0.125*tf.exp(-1*(v+44)/25);\n",
    "    tau_n = 1/(Alpha3 + Beta3);\n",
    "    n_inf = Alpha3/(Alpha3 + Beta3);\n",
    "\n",
    "    fh = Phi*(h_inf - h)/tau_h\n",
    "    \n",
    "    fn = Phi*(n_inf - n)/tau_n\n",
    "    \n",
    "    INa = G_Na*m_inf*m_inf*m_inf*h*(v - E_Na);\n",
    "    Ik = G_K*n*n*n*n*(v - E_K);\n",
    "    \n",
    "    return INa, Ik\n",
    "\n",
    "def fICa_ht(v):    \n",
    "\n",
    "    m_inf = 1 / (1+ tf.exp(-(v+half_value)/9))\n",
    "    ICa_ht = G_Ca*m_inf*m_inf*(v - V_Ca)\n",
    "    \n",
    "    return ICa_ht\n",
    "\n",
    "def fICa(v):\n",
    "    fcai = 2*(-alpha*ICa_ht - (cai/Tau_ca))/r\n",
    "    return fcai\n",
    "\n",
    "def fIKCa(v):\n",
    "    IKCa = g_AHP * (cai / (cai + K_D)) * (v - V_k)\n",
    "    return IKCa"
   ]
  },
  {
   "cell_type": "code",
   "execution_count": 424,
   "metadata": {
    "collapsed": true
   },
   "outputs": [],
   "source": [
    "# individual neuron calculations\n",
    "def neuron(y_prev, current_input):\n",
    "    y_out=c*(ve-y_prev[0]) + INa + Ik + current_input\n",
    "    return y_out\n",
    "\n",
    "def neuron_BIN_IND(y_prev, current_input):\n",
    "    temp = fINaK(y_prev)\n",
    "    y_out= c * (ve-y_prev[0]) + INa + Ik\n",
    "    return temp\n",
    "\n",
    "def neuron_CIN_IND(y_prev, current_input):\n",
    "    temp = fINaK(y_prev)\n",
    "    return temp\n",
    "\n",
    "def neuron_PY_IND(y_prev, current_input):\n",
    "    temp = fINaK(y_prev)\n",
    "    return temp\n",
    "\n",
    "def neuron_TC_IND(y_prev, current_input):\n",
    "    temp = fINaK(y_prev)\n",
    "    return temp\n",
    "\n",
    "def neuron_PN_IND(y_prev, current_input):\n",
    "    temp = fINaK(y_prev)\n",
    "    return temp\n",
    "\n",
    "# neuron function for each neuron type\n",
    "function_types = [neuron, neuron, neuron, neuron, neuron]"
   ]
  },
  {
   "cell_type": "code",
   "execution_count": 425,
   "metadata": {
    "collapsed": true
   },
   "outputs": [],
   "source": [
    "def get_step_input(current_input, step_no):\n",
    "    if step_no == 1:\n",
    "        return current_input\n",
    "    elif step_no > 1:\n",
    "        return  decay_constant * current_input"
   ]
  },
  {
   "cell_type": "code",
   "execution_count": 426,
   "metadata": {
    "collapsed": false
   },
   "outputs": [],
   "source": [
    "def neuron_combined_steps(prev_state, ext_current):\n",
    "    \n",
    "    y_out_all = None\n",
    "\n",
    "    for i in range(len(neuron_types)):\n",
    "        y_prev = tf.gather(prev_state[0], neuron_type_indices[i])\n",
    "        syn_prev = tf.gather(prev_state[1], neuron_type_indices[i]) + tf.gather(ext_current, neuron_type_indices[i])\n",
    "\n",
    "        neuron = function_types[i]\n",
    "        \n",
    "        current_input = get_step_input(syn_prev, 1)\n",
    "        step1 = neuron(y_prev, current_input)\n",
    "\n",
    "        current_input = get_step_input(current_input, 2)\n",
    "        step2 = neuron(step1*h/2, current_input)\n",
    "\n",
    "        step3 = neuron(step2*h/2, current_input)\n",
    "\n",
    "        current_input = get_step_input(current_input, 2)\n",
    "        step4 = neuron(step3*h, current_input)\n",
    "\n",
    "        y_out = 1/6*(step1 + 2*step2 + 2*step3 + step4)*h + y_prev\n",
    "\n",
    "        if y_out_all is None:\n",
    "            y_out_all = y_out\n",
    "        else:\n",
    "            y_out_all = tf.concat([y_out_all, y_out], axis=0)\n",
    "    \n",
    "    # synapase discharges\n",
    "    syn_prev_all = prev_state[1]\n",
    "    syn_out_all =  syn_cons * tf.sparse_tensor_dense_matmul(syn_conecs,\n",
    "        tf.reshape(tf.where(tf.greater(y_out_all, threshold), syn_peak*tf.ones_like(y_out_all), syn_prev_all),\n",
    "                   (num_neurons,1)))\n",
    "    \n",
    "    # peak thresholding for neuron outputs\n",
    "    y_out_all = tf.where(tf.greater(y_out_all, threshold), reset*tf.ones_like(y_out_all), y_out_all)\n",
    "\n",
    "    \n",
    "    return [y_out_all, tf.reshape(syn_out_all,(num_neurons,))]"
   ]
  },
  {
   "cell_type": "code",
   "execution_count": 427,
   "metadata": {
    "collapsed": false,
    "scrolled": false
   },
   "outputs": [],
   "source": [
    "# inputs to the neurons\n",
    "inp = 0.05\n",
    "inputs = tf.Variable(np.array([[inp] + [0.]*(num_neurons-1)] * num_iterations), dtype=tf.float32)\n",
    "\n",
    "# initial activations and the combined input from synaptic connections\n",
    "initial_val = 20.\n",
    "initial_state = [tf.Variable(np.array([initial_val]*num_neurons), dtype=tf.float32),\n",
    "                 tf.Variable(np.array([0]*num_neurons), dtype=tf.float32)]\n",
    "\n",
    "# recurrent execution. will iterate to the size of the inputs\n",
    "out = tf.scan(neuron_combined_steps, inputs, initializer=initial_state)"
   ]
  },
  {
   "cell_type": "code",
   "execution_count": 428,
   "metadata": {
    "collapsed": false,
    "scrolled": false
   },
   "outputs": [
    {
     "name": "stdout",
     "output_type": "stream",
     "text": [
      "CPU times: user 10.2 s, sys: 7.89 s, total: 18 s\n",
      "Wall time: 8.44 s\n"
     ]
    }
   ],
   "source": [
    "%%time\n",
    "# running the tensorflow graph\n",
    "with tf.Session() as sess:\n",
    "    sess.run(tf.global_variables_initializer())\n",
    "    writer.add_graph(sess.graph)\n",
    "    iteration_vals = sess.run(out)"
   ]
  },
  {
   "cell_type": "code",
   "execution_count": 429,
   "metadata": {
    "collapsed": false,
    "scrolled": false
   },
   "outputs": [
    {
     "data": {
      "image/png": "[encoded data removed]",
      "text/plain": [
       "<matplotlib.figure.Figure at 0x114ee2438>"
      ]
     },
     "metadata": {},
     "output_type": "display_data"
    },
    {
     "data": {
      "image/png": "[encoded data removed]",
      "text/plain": [
       "<matplotlib.figure.Figure at 0x11a51df98>"
      ]
     },
     "metadata": {},
     "output_type": "display_data"
    }
   ],
   "source": [
    "plt.figure(figsize=(20,5))\n",
    "plt.title('Neuron Activations')\n",
    "for i in range(num_neurons):\n",
    "    plt.plot([y[i] for y in iteration_vals[0]], label='y'+str(i), alpha=(i+1.0)/(num_neurons),\n",
    "             linewidth=5*(num_neurons-i)/(num_neurons))\n",
    "plt.legend()\n",
    "plt.show()\n",
    "\n",
    "plt.figure(figsize=(20, 5))\n",
    "plt.title('Combined Input from Synaptic Connections')\n",
    "for i in range(num_neurons):\n",
    "    plt.plot([y[i] for y in iteration_vals[1]], label='syn'+str(i), alpha=(i+1.0)/(num_neurons),\n",
    "             linewidth=5*(num_neurons-i)/(num_neurons))\n",
    "plt.legend()\n",
    "plt.show()"
   ]
  },
  {
   "cell_type": "code",
   "execution_count": null,
   "metadata": {
    "collapsed": true
   },
   "outputs": [],
   "source": []
  }
 ],
 "metadata": {
  "kernelspec": {
   "display_name": "Python 3",
   "language": "python",
   "name": "python3"
  },
  "language_info": {
   "codemirror_mode": {
    "name": "ipython",
    "version": 3
   },
   "file_extension": ".py",
   "mimetype": "text/x-python",
   "name": "python",
   "nbconvert_exporter": "python",
   "pygments_lexer": "ipython3",
   "version": "3.5.2"
  }
 },
 "nbformat": 4,
 "nbformat_minor": 0
}
