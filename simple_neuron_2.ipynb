{
 "cells": [
  {
   "cell_type": "code",
   "execution_count": 75,
   "metadata": {
    "collapsed": true
   },
   "outputs": [],
   "source": [
    "import tensorflow as tf\n",
    "import numpy as np\n",
    "\n",
    "import matplotlib.pyplot as plt\n",
    "\n",
    "%matplotlib inline\n",
    "\n",
    "writer = tf.summary.FileWriter('./')"
   ]
  },
  {
   "cell_type": "code",
   "execution_count": 99,
   "metadata": {
    "collapsed": false
   },
   "outputs": [],
   "source": [
    "h = tf.constant(0.1)\n",
    "c = tf.constant(0.1)\n",
    "ve = tf.constant(0.)\n",
    "decay_constant = tf.constant(0.1)\n",
    "threshold = tf.constant(10.0)\n",
    "reset = tf.constant(-3.)\n",
    "\n",
    "\n",
    "num_iterations = 10000\n",
    "num_neurons = 2"
   ]
  },
  {
   "cell_type": "code",
   "execution_count": 100,
   "metadata": {
    "collapsed": true
   },
   "outputs": [],
   "source": [
    "syn_cons = tf.constant(0.15)\n",
    "syn_peak = tf.constant(50.0)"
   ]
  },
  {
   "cell_type": "markdown",
   "metadata": {},
   "source": [
    "#### Sparse Matrix for Synapse Connections"
   ]
  },
  {
   "cell_type": "code",
   "execution_count": 101,
   "metadata": {
    "collapsed": false
   },
   "outputs": [],
   "source": [
    "syn_conecs = tf.SparseTensor(indices=[[1, 0]], values=[1.],\n",
    "                             dense_shape=[2, 2])"
   ]
  },
  {
   "cell_type": "markdown",
   "metadata": {},
   "source": [
    "#### Single Step for a Neuron Layer"
   ]
  },
  {
   "cell_type": "code",
   "execution_count": 102,
   "metadata": {
    "collapsed": false,
    "scrolled": false
   },
   "outputs": [],
   "source": [
    "def neuron(y_prev, current_input):    \n",
    "    # neuron outputs for this step\n",
    "    y_out = c*(ve - y_prev) #+ current_input\n",
    "    return y_out"
   ]
  },
  {
   "cell_type": "code",
   "execution_count": 103,
   "metadata": {
    "collapsed": true
   },
   "outputs": [],
   "source": [
    "def get_step_input(current_input, step_no):\n",
    "    if step_no == 1:\n",
    "        return current_input\n",
    "    elif step_no > 1:\n",
    "        return  decay_constant * current_input"
   ]
  },
  {
   "cell_type": "code",
   "execution_count": 104,
   "metadata": {
    "collapsed": true
   },
   "outputs": [],
   "source": [
    "def neuron_combined_steps(prev_state, ext_current):\n",
    "    y_prev = prev_state[0]\n",
    "    syn_prev = prev_state[1] + ext_current\n",
    "    \n",
    "    current_input = get_step_input(syn_prev, 1)\n",
    "    step1 = neuron(y_prev, current_input)\n",
    "    \n",
    "    current_input = get_step_input(current_input, 2)\n",
    "    step2 = neuron(step1*h/2, current_input)\n",
    "    \n",
    "    #current_input = get_step_input(current_input, 2)\n",
    "    step3 = neuron(step2*h/2, current_input)\n",
    "    \n",
    "    current_input = get_step_input(current_input, 2)\n",
    "    step4 = neuron(step3*h, current_input)\n",
    "    \n",
    "    y_out = 1/6*(step1 + 2*step2 + 2*step3 + step4)*h + y_prev\n",
    "    \n",
    "    # synapase discharges\n",
    "    syn_out =  syn_cons * tf.sparse_tensor_dense_matmul(syn_conecs,\n",
    "        tf.reshape(tf.where(tf.greater(y_out, threshold), syn_peak*tf.ones_like(y_out), syn_prev), (num_neurons,1)))\n",
    "    \n",
    "    # peak thresholding for neuron outputs\n",
    "    y_out = tf.where(tf.greater(y_out, threshold), reset*tf.ones_like(y_out), y_out)\n",
    "\n",
    "    \n",
    "    return [y_out, tf.reshape(syn_out,(num_neurons,))]"
   ]
  },
  {
   "cell_type": "code",
   "execution_count": 105,
   "metadata": {
    "collapsed": false,
    "scrolled": false
   },
   "outputs": [],
   "source": [
    "# inputs to the neurons\n",
    "inp = 0.05\n",
    "inputs = tf.Variable(np.array([[inp] + [0.]*(num_neurons-1)] * num_iterations), dtype=tf.float32)\n",
    "\n",
    "# initial activations and the combined input from synaptic connections\n",
    "initial_val = 20.\n",
    "initial_state = [tf.Variable(np.array([initial_val]*num_neurons), dtype=tf.float32),\n",
    "                 tf.Variable(np.array([0]*num_neurons), dtype=tf.float32)]\n",
    "\n",
    "# recurrent execution. will iterate to the size of the inputs\n",
    "out = tf.scan(neuron_combined_steps, inputs, initializer=initial_state)"
   ]
  },
  {
   "cell_type": "code",
   "execution_count": 106,
   "metadata": {
    "collapsed": false,
    "scrolled": false
   },
   "outputs": [
    {
     "name": "stdout",
     "output_type": "stream",
     "text": [
      "[ 0.      0.0075]\n",
      "CPU times: user 4.92 s, sys: 2.54 s, total: 7.46 s\n",
      "Wall time: 3.98 s\n"
     ]
    }
   ],
   "source": [
    "%%time\n",
    "# running the tensorflow graph\n",
    "with tf.Session() as sess:\n",
    "    sess.run(tf.global_variables_initializer())\n",
    "    writer.add_graph(sess.graph)\n",
    "    iteration_vals = sess.run(out)\n",
    "    print(iteration_vals[1][-1])"
   ]
  },
  {
   "cell_type": "code",
   "execution_count": 107,
   "metadata": {
    "collapsed": false,
    "scrolled": false
   },
   "outputs": [
    {
     "data": {
      "image/png": "[encoded data removed]",
      "text/plain": [
       "<matplotlib.figure.Figure at 0x1167be198>"
      ]
     },
     "metadata": {},
     "output_type": "display_data"
    },
    {
     "data": {
      "image/png": "[encoded data removed]",
      "text/plain": [
       "<matplotlib.figure.Figure at 0x1133db128>"
      ]
     },
     "metadata": {},
     "output_type": "display_data"
    }
   ],
   "source": [
    "plt.figure(figsize=(20,5))\n",
    "plt.title('Neuron Activations')\n",
    "for i in range(num_neurons):\n",
    "    plt.plot([y[i] for y in iteration_vals[0]], label='y'+str(i), alpha=(i+1.0)/(num_neurons),\n",
    "             linewidth=5*(num_neurons-i)/(num_neurons))\n",
    "plt.legend()\n",
    "plt.show()\n",
    "\n",
    "plt.figure(figsize=(20, 5))\n",
    "plt.title('Combined Input from Synaptic Connections')\n",
    "for i in range(num_neurons):\n",
    "    plt.plot([y[i] for y in iteration_vals[1]], label='syn'+str(i), alpha=(i+1.0)/(num_neurons),\n",
    "             linewidth=5*(num_neurons-i)/(num_neurons))\n",
    "plt.legend()\n",
    "plt.show()"
   ]
  },
  {
   "cell_type": "code",
   "execution_count": null,
   "metadata": {
    "collapsed": true
   },
   "outputs": [],
   "source": []
  }
 ],
 "metadata": {
  "kernelspec": {
   "display_name": "Python 3",
   "language": "python",
   "name": "python3"
  },
  "language_info": {
   "codemirror_mode": {
    "name": "ipython",
    "version": 3
   },
   "file_extension": ".py",
   "mimetype": "text/x-python",
   "name": "python",
   "nbconvert_exporter": "python",
   "pygments_lexer": "ipython3",
   "version": "3.5.2"
  }
 },
 "nbformat": 4,
 "nbformat_minor": 0
}
