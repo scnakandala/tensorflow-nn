{
 "cells": [
  {
   "cell_type": "code",
   "execution_count": 1,
   "metadata": {
    "collapsed": true
   },
   "outputs": [],
   "source": [
    "num_neurons = 3\n",
    "\n",
    "neuron_spiked = [0]*num_neurons\n",
    "\n",
    "neuron_values = [0]*num_neuron"
   ]
  },
  {
   "cell_type": "code",
   "execution_count": 4,
   "metadata": {
    "collapsed": true
   },
   "outputs": [],
   "source": [
    "connections = [\n",
    "    [0, 1, 1],\n",
    "    [1, 0, 0],\n",
    "    [0, 1, 0]\n",
    "]"
   ]
  },
  {
   "cell_type": "code",
   "execution_count": 5,
   "metadata": {
    "collapsed": false
   },
   "outputs": [
    {
     "data": {
      "text/plain": [
       "[0, 1, 0]"
      ]
     },
     "execution_count": 5,
     "metadata": {},
     "output_type": "execute_result"
    }
   ],
   "source": [
    "for i in range(num_neurons):\n",
    "    if neuron_spiked[i]:\n",
    "        "
   ]
  },
  {
   "cell_type": "code",
   "execution_count": null,
   "metadata": {
    "collapsed": true
   },
   "outputs": [],
   "source": [
    "def Is(spikes,prev_Is):\n",
    "    new_Is=prev_Is*decay_constant # for example decay_constant = 0.99\n",
    "    if spikes>0:\n",
    "        new_Is=new_Is+spikes*jump_constant # for example jump_constant = 0.1\n",
    "    return new_Is\n"
   ]
  },
  {
   "cell_type": "markdown",
   "metadata": {},
   "source": [
    "### Global Computation Using TF Sparse Multiplication"
   ]
  },
  {
   "cell_type": "code",
   "execution_count": 106,
   "metadata": {
    "collapsed": true
   },
   "outputs": [],
   "source": [
    "import tensorflow as tf\n",
    "import numpy as np\n",
    "import numpy.polynomial.polynomial as poly\n",
    "\n",
    "from random import randint\n",
    "\n",
    "import matplotlib.pyplot as plt\n",
    "%matplotlib inline"
   ]
  },
  {
   "cell_type": "code",
   "execution_count": 84,
   "metadata": {
    "collapsed": true
   },
   "outputs": [],
   "source": [
    "tf.reset_default_graph()\n",
    "num_neurons = 5000"
   ]
  },
  {
   "cell_type": "code",
   "execution_count": 85,
   "metadata": {
    "collapsed": false
   },
   "outputs": [],
   "source": [
    "indices = []\n",
    "values = []\n",
    "for i in range(num_neurons):\n",
    "    for j in range(num_neurons):\n",
    "        x  = 3\n",
    "        if i != j:\n",
    "            number = randint(0, 99)\n",
    "            if number < 5:\n",
    "                indices.append([i, j])\n",
    "                values.append(1.0/5)\n",
    "                \n",
    "connections = tf.SparseTensor(indices=indices, values=values, dense_shape=[num_neurons, num_neurons])"
   ]
  },
  {
   "cell_type": "code",
   "execution_count": 86,
   "metadata": {
    "collapsed": true
   },
   "outputs": [],
   "source": [
    "neuron_values = tf.Variable(np.ones(num_neurons), dtype=tf.float32)"
   ]
  },
  {
   "cell_type": "code",
   "execution_count": 87,
   "metadata": {
    "collapsed": true
   },
   "outputs": [],
   "source": [
    "mul_product = tf.sparse_tensor_dense_matmul(connections, tf.reshape(neuron_values, shape=(num_neurons, 1)))"
   ]
  },
  {
   "cell_type": "code",
   "execution_count": 99,
   "metadata": {
    "collapsed": true,
    "scrolled": false
   },
   "outputs": [],
   "source": [
    "sess = tf.Session()\n",
    "sess.run(tf.global_variables_initializer())"
   ]
  },
  {
   "cell_type": "code",
   "execution_count": 100,
   "metadata": {
    "collapsed": false
   },
   "outputs": [
    {
     "name": "stdout",
     "output_type": "stream",
     "text": [
      "CPU times: user 37.3 ms, sys: 16.7 ms, total: 54 ms\n",
      "Wall time: 52.7 ms\n"
     ]
    }
   ],
   "source": [
    "%%time\n",
    "output = sess.run(mul_product)"
   ]
  },
  {
   "cell_type": "code",
   "execution_count": 121,
   "metadata": {
    "collapsed": true
   },
   "outputs": [],
   "source": [
    "x_sparse_matmul = [10, 100, 1000, 2000, 3000, 4000, 5000, 10000]\n",
    "y_sparse_matmul = [1.02, 1.14, 3.35, 9.34, 18.6, 35.8, 52.9, 258]"
   ]
  },
  {
   "cell_type": "markdown",
   "metadata": {},
   "source": [
    "### Using iterative per neuron matrix multiplication"
   ]
  },
  {
   "cell_type": "code",
   "execution_count": 413,
   "metadata": {
    "collapsed": true
   },
   "outputs": [],
   "source": [
    "tf.reset_default_graph()\n",
    "num_neurons = 50"
   ]
  },
  {
   "cell_type": "code",
   "execution_count": 423,
   "metadata": {
    "collapsed": false,
    "scrolled": false
   },
   "outputs": [],
   "source": [
    "per_neuron_connections = []\n",
    "\n",
    "for i in range(num_neurons):\n",
    "    indices = []\n",
    "    values = []\n",
    "    for j in range(num_neurons):\n",
    "        if i != j:\n",
    "            number = randint(0, 99)\n",
    "            if number < 50:\n",
    "                indices.append([0, j])\n",
    "                values.append(1.0/50)\n",
    "    connections = tf.SparseTensor(indices=indices, values=values, dense_shape=[1, num_neurons])\n",
    "    per_neuron_connections.append(connections)"
   ]
  },
  {
   "cell_type": "code",
   "execution_count": 424,
   "metadata": {
    "collapsed": true
   },
   "outputs": [],
   "source": [
    "neuron_values = tf.Variable(np.ones(num_neurons), dtype=tf.float32)"
   ]
  },
  {
   "cell_type": "code",
   "execution_count": null,
   "metadata": {
    "collapsed": true
   },
   "outputs": [],
   "source": []
  },
  {
   "cell_type": "code",
   "execution_count": 317,
   "metadata": {
    "collapsed": false
   },
   "outputs": [
    {
     "data": {
      "image/png": "[encoded data removed]",
      "text/plain": [
       "<matplotlib.figure.Figure at 0x115699b00>"
      ]
     },
     "metadata": {},
     "output_type": "display_data"
    }
   ],
   "source": [
    "fig = plt.figure()\n",
    "\n",
    "plt.xscale('log')\n",
    "plt.yscale('log')\n",
    "\n",
    "ax1 = fig.add_subplot(111)\n",
    "ax1.plot(x_sparse_matmul, y_sparse_matmul, 'b-o')\n",
    "ax1.plot(x_embed_lookup, y_embed_lookup, '4-o')\n",
    "\n",
    "ax1.set_xlabel('num. of neurons')\n",
    "ax1.set_ylabel('per iteration calc time (ms)')\n",
    "\n",
    "# coefs = poly.polyfit(x_num_neurons, y_runtime, 3)\n",
    "# x_new = [10, 100, 1000, 10000, 100000, 1000000]\n",
    "# ffit = poly.polyval(x_new, coefs)\n",
    "# plt.plot(x_new, ffit, 'r--')\n",
    "\n",
    "plt.draw()"
   ]
  },
  {
   "cell_type": "code",
   "execution_count": null,
   "metadata": {
    "collapsed": true
   },
   "outputs": [],
   "source": []
  }
 ],
 "metadata": {
  "kernelspec": {
   "display_name": "Python 3",
   "language": "python",
   "name": "python3"
  },
  "language_info": {
   "codemirror_mode": {
    "name": "ipython",
    "version": 3
   },
   "file_extension": ".py",
   "mimetype": "text/x-python",
   "name": "python",
   "nbconvert_exporter": "python",
   "pygments_lexer": "ipython3",
   "version": "3.5.2"
  }
 },
 "nbformat": 4,
 "nbformat_minor": 2
}
