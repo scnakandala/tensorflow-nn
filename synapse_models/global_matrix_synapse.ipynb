{
 "cells": [
  {
   "cell_type": "code",
   "execution_count": 1,
   "metadata": {
    "collapsed": true
   },
   "outputs": [],
   "source": [
    "num_neurons = 3\n",
    "\n",
    "neuron_spiked = [0]*num_neurons\n",
    "\n",
    "neuron_values = [0]*num_neuron"
   ]
  },
  {
   "cell_type": "code",
   "execution_count": 4,
   "metadata": {
    "collapsed": true
   },
   "outputs": [],
   "source": [
    "connections = [\n",
    "    [0, 1, 1],\n",
    "    [1, 0, 0],\n",
    "    [0, 1, 0]\n",
    "]"
   ]
  },
  {
   "cell_type": "code",
   "execution_count": 5,
   "metadata": {
    "collapsed": false
   },
   "outputs": [
    {
     "data": {
      "text/plain": [
       "[0, 1, 0]"
      ]
     },
     "execution_count": 5,
     "metadata": {},
     "output_type": "execute_result"
    }
   ],
   "source": [
    "for i in range(num_neurons):\n",
    "    if neuron_spiked[i]:   "
   ]
  },
  {
   "cell_type": "code",
   "execution_count": null,
   "metadata": {
    "collapsed": true
   },
   "outputs": [],
   "source": [
    "def Is(spikes,prev_Is):\n",
    "    new_Is=prev_Is*decay_constant # for example decay_constant = 0.99\n",
    "    if spikes>0:\n",
    "        new_Is=new_Is+spikes*jump_constant # for example jump_constant = 0.1\n",
    "    return new_Is"
   ]
  },
  {
   "cell_type": "markdown",
   "metadata": {},
   "source": [
    "### Global Computation Using TF Sparse Multiplication"
   ]
  },
  {
   "cell_type": "markdown",
   "metadata": {},
   "source": [
    "### https://www.tensorflow.org/api_docs/python/tf/sparse_tensor_dense_matmul"
   ]
  },
  {
   "cell_type": "code",
   "execution_count": 1,
   "metadata": {
    "collapsed": true
   },
   "outputs": [],
   "source": [
    "import tensorflow as tf\n",
    "import numpy as np\n",
    "import numpy.polynomial.polynomial as poly\n",
    "\n",
    "from random import randint\n",
    "\n",
    "import matplotlib.pyplot as plt\n",
    "%matplotlib inline"
   ]
  },
  {
   "cell_type": "code",
   "execution_count": 2,
   "metadata": {
    "collapsed": true
   },
   "outputs": [],
   "source": [
    "tf.reset_default_graph()\n",
    "num_neurons = 20000"
   ]
  },
  {
   "cell_type": "code",
   "execution_count": 3,
   "metadata": {
    "collapsed": true
   },
   "outputs": [],
   "source": [
    "indices = []\n",
    "values = []\n",
    "for i in range(num_neurons):\n",
    "    for j in range(num_neurons):\n",
    "        if i != j:\n",
    "            number = randint(0, 99)\n",
    "            if number < 5:\n",
    "                indices.append([i, j])\n",
    "                values.append(1.0/5)\n",
    "                \n",
    "connections = tf.SparseTensor(indices=indices, values=values, dense_shape=[num_neurons, num_neurons])"
   ]
  },
  {
   "cell_type": "code",
   "execution_count": 4,
   "metadata": {
    "collapsed": true
   },
   "outputs": [],
   "source": [
    "neuron_values = tf.Variable(np.ones(num_neurons), dtype=tf.float32)"
   ]
  },
  {
   "cell_type": "code",
   "execution_count": 5,
   "metadata": {
    "collapsed": true
   },
   "outputs": [],
   "source": [
    "mul_product = tf.sparse_tensor_dense_matmul(connections, tf.reshape(neuron_values, shape=(num_neurons, 1)))"
   ]
  },
  {
   "cell_type": "code",
   "execution_count": 6,
   "metadata": {
    "collapsed": true,
    "scrolled": false
   },
   "outputs": [],
   "source": [
    "sess = tf.Session()\n",
    "sess.run(tf.global_variables_initializer())"
   ]
  },
  {
   "cell_type": "code",
   "execution_count": 7,
   "metadata": {
    "collapsed": false
   },
   "outputs": [
    {
     "name": "stdout",
     "output_type": "stream",
     "text": [
      "CPU times: user 846 ms, sys: 667 ms, total: 1.51 s\n",
      "Wall time: 1.54 s\n"
     ]
    }
   ],
   "source": [
    "%%time\n",
    "output = sess.run(mul_product)"
   ]
  },
  {
   "cell_type": "code",
   "execution_count": 1,
   "metadata": {
    "collapsed": true
   },
   "outputs": [],
   "source": [
    "x_sparse_matmul = [10, 100, 1000, 2000, 3000, 4000, 5000, 10000]\n",
    "y_sparse_matmul = [1.02, 1.14, 3.35, 9.34, 18.6, 35.8, 52.9, 258]"
   ]
  },
  {
   "cell_type": "code",
   "execution_count": 11,
   "metadata": {
    "collapsed": true
   },
   "outputs": [],
   "source": [
    "x_local_mul = [10, 100, 1000, 2000, 3000, 5000, 10000, 20000]\n",
    "y_local_mul = [2.6, 24.9, 215, 466, 693, 1270, 5240, 12700]"
   ]
  },
  {
   "cell_type": "code",
   "execution_count": 12,
   "metadata": {
    "collapsed": false
   },
   "outputs": [
    {
     "data": {
      "image/png": "[encoded data removed]",
      "text/plain": [
       "<matplotlib.figure.Figure at 0x112d28dd8>"
      ]
     },
     "metadata": {},
     "output_type": "display_data"
    }
   ],
   "source": [
    "fig = plt.figure()\n",
    "\n",
    "plt.xscale('log')\n",
    "plt.yscale('log')\n",
    "\n",
    "ax1 = fig.add_subplot(111)\n",
    "ax1.plot(x_sparse_matmul, y_sparse_matmul, 'bo-', label='global')\n",
    "\n",
    "ax1.plot(x_local_mul, y_local_mul, 'ro-', label='local')\n",
    "\n",
    "ax1.set_xlabel('num. of neurons')\n",
    "ax1.set_ylabel('per iteration calc time (ms)')\n",
    "\n",
    "# coefs = poly.polyfit(x_sparse_matmul, y_sparse_matmul, 3)\n",
    "# x_new = [10, 100, 1000, 10000, 100000, 1000000]\n",
    "# ffit = poly.polyval(x_new, coefs)\n",
    "# plt.plot(x_new, ffit, 'r--')\n",
    "\n",
    "plt.legend()\n",
    "plt.draw()"
   ]
  },
  {
   "cell_type": "code",
   "execution_count": null,
   "metadata": {
    "collapsed": true
   },
   "outputs": [],
   "source": []
  }
 ],
 "metadata": {
  "kernelspec": {
   "display_name": "Python 3",
   "language": "python",
   "name": "python3"
  },
  "language_info": {
   "codemirror_mode": {
    "name": "ipython",
    "version": 3
   },
   "file_extension": ".py",
   "mimetype": "text/x-python",
   "name": "python",
   "nbconvert_exporter": "python",
   "pygments_lexer": "ipython3",
   "version": "3.5.2"
  }
 },
 "nbformat": 4,
 "nbformat_minor": 2
}
