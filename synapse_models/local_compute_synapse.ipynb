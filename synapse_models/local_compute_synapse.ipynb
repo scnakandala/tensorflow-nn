{
 "cells": [
  {
   "cell_type": "code",
   "execution_count": 2,
   "metadata": {
    "collapsed": true
   },
   "outputs": [],
   "source": [
    "import tensorflow as tf\n",
    "import numpy as np\n",
    "import numpy.polynomial.polynomial as poly\n",
    "\n",
    "from random import randint\n",
    "\n",
    "import matplotlib.pyplot as plt\n",
    "%matplotlib inline"
   ]
  },
  {
   "cell_type": "code",
   "execution_count": 42,
   "metadata": {
    "collapsed": false
   },
   "outputs": [],
   "source": [
    "tf.reset_default_graph()\n",
    "num_neurons = 100"
   ]
  },
  {
   "cell_type": "markdown",
   "metadata": {},
   "source": [
    "### Defining the connections for each neuron"
   ]
  },
  {
   "cell_type": "code",
   "execution_count": 43,
   "metadata": {
    "collapsed": false
   },
   "outputs": [],
   "source": [
    "connections = []\n",
    "\n",
    "for i in range(num_neurons):\n",
    "    temp = []\n",
    "    for j in range(num_neurons):\n",
    "        if i != j:\n",
    "            number = randint(0, 99)\n",
    "            if number < 5:\n",
    "                temp.append(j)\n",
    "    connections.append(tf.Variable(np.asarray(temp), dtype=tf.int32))"
   ]
  },
  {
   "cell_type": "markdown",
   "metadata": {},
   "source": [
    "### Initial values for each neuron (step: t)"
   ]
  },
  {
   "cell_type": "code",
   "execution_count": 44,
   "metadata": {
    "collapsed": false
   },
   "outputs": [],
   "source": [
    "neuron_values = tf.Variable(np.ones(num_neurons), dtype=tf.float32)"
   ]
  },
  {
   "cell_type": "markdown",
   "metadata": {},
   "source": [
    "### Calculating the fIs from synaptic connections. TODO: Have to check whether neuron has fired"
   ]
  },
  {
   "cell_type": "code",
   "execution_count": 45,
   "metadata": {
    "collapsed": false
   },
   "outputs": [],
   "source": [
    "mul_product = []\n",
    "\n",
    "for i in range(num_neurons):\n",
    "    gather = tf.gather(neuron_values, connections[i])\n",
    "    mul_product.append(tf.reduce_sum(gather))"
   ]
  },
  {
   "cell_type": "markdown",
   "metadata": {},
   "source": [
    "### Adding back the synaptic current to initial neuron value to get the neuron value at next time iteration. (step: t+1)"
   ]
  },
  {
   "cell_type": "code",
   "execution_count": 46,
   "metadata": {
    "collapsed": false
   },
   "outputs": [],
   "source": [
    "mul_plus_add = tf.add(tf.stack(mul_product, 0), neuron_values)"
   ]
  },
  {
   "cell_type": "code",
   "execution_count": 47,
   "metadata": {
    "collapsed": false
   },
   "outputs": [],
   "source": [
    "sess = tf.Session()\n",
    "sess.run(tf.global_variables_initializer())"
   ]
  },
  {
   "cell_type": "code",
   "execution_count": 48,
   "metadata": {
    "collapsed": false
   },
   "outputs": [
    {
     "name": "stdout",
     "output_type": "stream",
     "text": [
      "CPU times: user 20.4 ms, sys: 4.06 ms, total: 24.4 ms\n",
      "Wall time: 23.4 ms\n"
     ]
    }
   ],
   "source": [
    "%%time\n",
    "output = sess.run(mul_plus_add)"
   ]
  },
  {
   "cell_type": "code",
   "execution_count": 13,
   "metadata": {
    "collapsed": true
   },
   "outputs": [],
   "source": [
    "x_local_mul = [10, 100, 1000, 2000, 3000, 5000, 10000, 20000]\n",
    "y_local_mul = [2.6, 24.9, 215, 466, 693, 1270, 5240, 12700]"
   ]
  },
  {
   "cell_type": "code",
   "execution_count": 72,
   "metadata": {
    "collapsed": false
   },
   "outputs": [
    {
     "data": {
      "image/png": "[encoded data removed]",
      "text/plain": [
       "<matplotlib.figure.Figure at 0x1144c8198>"
      ]
     },
     "metadata": {},
     "output_type": "display_data"
    }
   ],
   "source": [
    "fig = plt.figure()\n",
    "\n",
    "plt.xscale('log')\n",
    "plt.yscale('log')\n",
    "\n",
    "ax1 = fig.add_subplot(111)\n",
    "ax1.plot(x_local_mul, y_local_mul, 'ro-')\n",
    "\n",
    "ax1.set_xlabel('num. of neurons')\n",
    "ax1.set_ylabel('per iteration calc time (ms)')\n",
    "\n",
    "# coefs = poly.polyfit(x_local_mul, y_local_mul, 4)\n",
    "# x_new = [10, 100, 1000, 10000, 100000, 1000000]\n",
    "# ffit = poly.polyval(x_new, coefs)\n",
    "# plt.plot(x_new, ffit, 'r--')\n",
    "\n",
    "plt.draw()"
   ]
  },
  {
   "cell_type": "code",
   "execution_count": null,
   "metadata": {
    "collapsed": true
   },
   "outputs": [],
   "source": []
  }
 ],
 "metadata": {
  "kernelspec": {
   "display_name": "Python 3",
   "language": "python",
   "name": "python3"
  },
  "language_info": {
   "codemirror_mode": {
    "name": "ipython",
    "version": 3
   },
   "file_extension": ".py",
   "mimetype": "text/x-python",
   "name": "python",
   "nbconvert_exporter": "python",
   "pygments_lexer": "ipython3",
   "version": "3.5.2"
  }
 },
 "nbformat": 4,
 "nbformat_minor": 2
}
